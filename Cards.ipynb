{
  "nbformat": 4,
  "nbformat_minor": 0,
  "metadata": {
    "colab": {
      "provenance": [],
      "collapsed_sections": [
        "GbTG0K5Tp6CO",
        "iU8KUX-Ix7aS",
        "Q_5i7KwiyCId",
        "axhqgz46yT2q",
        "Lf-X4P91-kqb",
        "JbdlHZwAx3zD",
        "yG2B2RAsrPJE",
        "7Vn1vc4BpGum",
        "X9A4q35aky-a"
      ]
    },
    "kernelspec": {
      "name": "python3",
      "display_name": "Python 3"
    },
    "language_info": {
      "name": "python"
    }
  },
  "cells": [
    {
      "cell_type": "markdown",
      "source": [
        "*   Nome: Ian Rodrigues dos Reis Paixão\n",
        "*   Matrícula: 166394\n",
        "*   Código de Pessoa: 1026447\n",
        "-------------------------------------------\n",
        "*   Nome: Rithie Natan Carvalhaes Prado\n",
        "*   Matrícula: 166395     \n",
        "*   Código de Pessoa: 998694\n",
        "-------------------------------------------"
      ],
      "metadata": {
        "id": "nEg2o8CpCxih"
      }
    },
    {
      "cell_type": "markdown",
      "source": [
        "# YuGiOh Cards Prediction\n",
        "-------------------------------------------\n",
        "Referências:\n",
        "*   https://www.kaggle.com/datasets/ioexception/yugioh-cards\n",
        "*   https://ygoprodeck.com/"
      ],
      "metadata": {
        "id": "evAOkHuYoTVA"
      }
    },
    {
      "cell_type": "markdown",
      "source": [
        "\n",
        "> Yu-Gi-Oh! é um jogo de cartas colecionáveis desenvolvido pela Konami. O jogo foi lançado no Japão em 1999 e rapidamente se tornou popular em todo o mundo. Yu-Gi-Oh! é baseado no mangá e anime de mesmo nome, criado por Kazuki Takahashi.\n",
        "\n",
        "> O jogo é jogado entre dois jogadores, cada um com um baralho de 40 a 60 cartas. O objetivo do jogo é reduzir os pontos de vida do oponente a zero. Os jogadores podem fazer isso jogando monstros no campo, que podem atacar os monstros do oponente ou seus pontos de vida diretamente. Os jogadores também podem jogar feitiços e armadilhas para afetar o campo de batalha e o jogo em si\n",
        "\n",
        "> Existem vários tipos diferentes de cartas em Yu-Gi-Oh!, cada uma com seus próprios pontos de ataque e defesa. Os monstros podem ser de diferentes atributos, como fogo, água, terra e vento. Eles também podem ser de diferentes tipos, como besta, guerreiro, mago etc. Os feitiços podem ser usados para convocar monstros, atacar monstros ou destruir cartas. As armadilhas podem ser usadas para prevenir ataques, destruir cartas ou desviar ataques\n",
        "\n",
        "> Aqui estão os componentes de uma carta de Yu-Gi-Oh:\n",
        "\n",
        "\n",
        "* Nome: O nome da carta.\n",
        "* Tipo: O tipo da carta, como Monstro, Magia ou Armadilha.\n",
        "* Atributo: O atributo da carta, como Fogo, Água, Terra, Vento ou Luz.\n",
        "* Nível: O nível da carta, que determina quantas cartas detributo você pode oferecer como tributo para invocá-la.\n",
        "* Ataque: O ataque da carta, que determina quantas vidas do seu oponente você pode tirar quando ataca.\n",
        "* Defesa: A defesa da carta, que determina quantas vidas você pode proteger quando é atacado.\n",
        "* Efeito: O efeito da carta, que descreve o que ela pode fazer.\n",
        "* Imagem: A imagem da carta, que geralmente é do monstro ou feitiço que representa.\n"
      ],
      "metadata": {
        "id": "EFLtzRKNPBxz"
      }
    },
    {
      "cell_type": "markdown",
      "source": [
        "\n",
        "> As cartas de Yu-Gi-Oh! são divididas em 3 tipos principais:\n",
        "\n",
        "*   Cartas do tipo Monstro: https://shorturl.at/dkwH2\n",
        "\n",
        "*   Cartas do tipo Feitiço: https://shorturl.at/fgmtz\n",
        "\n",
        "*   Cartas do tipo Armadilha: https://shorturl.at/kwDP4\n",
        "\n",
        "\n",
        "\n",
        "\n"
      ],
      "metadata": {
        "id": "_STJV41hSrwm"
      }
    },
    {
      "cell_type": "markdown",
      "source": [
        "\n",
        "\n",
        "> As cartas do tipo Monstro por sua vez apresentam as seguinte subdivisões:\n",
        "\n",
        "\n",
        "*   Monstros do tipo Normal: https://shorturl.at/dkwH2\n",
        "\n",
        "*   Monstros do tipo Efeito: https://shorturl.at/bcdlO\n",
        "\n",
        "*   Monstros do tipo Ritual: https://shorturl.at/KOVZ9\n",
        "\n",
        "*   Monstros do tipo Fusão: https://shorturl.at/hpO09\n",
        "\n",
        "*   Monstros do tipo Synchro: https://shorturl.at/zHMNY\n",
        "\n",
        "*   Monstros do tipo XYZ: https://shorturl.at/asCD6\n",
        "\n",
        "*   Monstros do tipo Pendulum: https://shorturl.at/emBSU\n",
        "\n",
        "*   Monstros do tipo Link: https://shorturl.at/gIMY6\n",
        "\n",
        "\n",
        "> Os ultimos 5 ou seja ( Fusão, Synchro, XYZ, Pendulum e Link) são cosiderados como monstros de Extra Deck.\n",
        "\n",
        "> Extra é um deck a parte do deck principal que pode ter até 15 cartas dos tipo Monstro descritos acima como monstro de Extra Deck."
      ],
      "metadata": {
        "id": "s3iL6Fg7T7RB"
      }
    },
    {
      "cell_type": "markdown",
      "source": [
        "-------------------------------------------------------------------------------\n",
        "> Neste trabalho utilizaremos o banco de dados disponibilzado via Kaggle que contem todas as cartas do Jogo. A partir dessas cartas trabalharemos em primeiro momento somente com as carts do tipo Monstro e mais especificamente com cartas do tipo Monstro de Extra Deck.\n",
        "\n",
        "> Treinaremos um modelo de treinamento super visionados para aprender a prever o Tipo de Monstro do Extra Deck (Fusão, Synchro, XYZ, Pendulum e Link).\n",
        "\n",
        "> Iremos validar o modelo usando um outro dataset de cartas de Monstro que podem conter dos os tipo de Monstros.\n",
        "------------------------------------------------------------------------------\n",
        "> Iremos usar metodos de Natural language Processing para determinar qual o efeito de carta mais presente nas 200 cartas mais utilizadas na plataforma Master Duel\n",
        "\n",
        "> Yu-Gi-Oh! Master Duel é um jogo de cartas colecionáveis baseado na franquia Yu-Gi-Oh!. O jogo foi lançado em 2022 para PlayStation 4, PlayStation 5, Xbox One, Xbox Series X/S, Nintendo Switch, Microsoft Windows e dispositivos móveis."
      ],
      "metadata": {
        "id": "imqHh9U5T7Iy"
      }
    },
    {
      "cell_type": "markdown",
      "source": [
        "## Imports"
      ],
      "metadata": {
        "id": "GbTG0K5Tp6CO"
      }
    },
    {
      "cell_type": "code",
      "execution_count": null,
      "metadata": {
        "colab": {
          "base_uri": "https://localhost:8080/"
        },
        "id": "XWtER2kIg7zp",
        "outputId": "61284268-edee-4221-cbda-90425f2d48f9"
      },
      "outputs": [
        {
          "output_type": "stream",
          "name": "stdout",
          "text": [
            "Drive already mounted at /content/drive; to attempt to forcibly remount, call drive.mount(\"/content/drive\", force_remount=True).\n"
          ]
        }
      ],
      "source": [
        "from google.colab import drive\n",
        "drive.mount('/content/drive')"
      ]
    },
    {
      "cell_type": "code",
      "source": [
        "import numpy as np\n",
        "import pandas as pd\n",
        "import seaborn as sns\n",
        "import matplotlib.pyplot as plt\n",
        "import missingno as msno\n",
        "%matplotlib inline\n",
        "import random\n",
        "import nltk\n",
        "import spacy\n",
        "import pydotplus\n",
        "import re\n",
        "from sklearn.preprocessing import MinMaxScaler, KBinsDiscretizer, OrdinalEncoder, OneHotEncoder , PowerTransformer , RobustScaler , StandardScaler, LabelEncoder\n",
        "from sklearn.impute import SimpleImputer\n",
        "from sklearn.impute import KNNImputer\n",
        "from imblearn.under_sampling import CondensedNearestNeighbour, TomekLinks, EditedNearestNeighbours, OneSidedSelection, NeighbourhoodCleaningRule\n",
        "from imblearn.over_sampling import RandomOverSampler, SMOTE, BorderlineSMOTE, ADASYN\n",
        "from sklearn.tree import DecisionTreeClassifier\n",
        "from sklearn.feature_extraction import DictVectorizer\n",
        "from sklearn import tree\n",
        "from sklearn.tree import DecisionTreeClassifier\n",
        "from sklearn.metrics import accuracy_score, classification_report, confusion_matrix\n",
        "from sklearn.model_selection import train_test_split, RandomizedSearchCV, GridSearchCV\n",
        "from time import time\n",
        "from IPython.display import Image\n",
        "from sklearn.naive_bayes import GaussianNB, MultinomialNB, ComplementNB, BernoulliNB, CategoricalNB\n",
        "from sklearn.feature_extraction.text import CountVectorizer, TfidfVectorizer\n",
        "from spacy.lang.en.stop_words import STOP_WORDS\n",
        "from string import punctuation\n",
        "from nltk.util import ngrams\n",
        "from nltk.corpus import stopwords\n",
        "from nltk.corpus import stopwords\n",
        "from nltk.tokenize import word_tokenize\n",
        "from nltk.corpus import wordnet\n",
        "from heapq import nlargest"
      ],
      "metadata": {
        "id": "sAaHRaAZheZu"
      },
      "execution_count": null,
      "outputs": []
    },
    {
      "cell_type": "markdown",
      "source": [
        "## Carregando datasets\n"
      ],
      "metadata": {
        "id": "iU8KUX-Ix7aS"
      }
    },
    {
      "cell_type": "code",
      "source": [
        "allcards = pd.read_csv('/content/drive/MyDrive/Colab Notebooks/cards.csv')\n",
        "allcards_cardsets = pd.read_csv('/content/drive/MyDrive/Colab Notebooks/cards_cardsets.csv')\n",
        "allcards_variants = pd.read_csv('/content/drive/MyDrive/Colab Notebooks/cards_variants.csv')\n",
        "allcardsets = pd.read_csv('/content/drive/MyDrive/Colab Notebooks/cardsets.csv')\n",
        "topused = pd.read_csv('/content/drive/MyDrive/Colab Notebooks/master_top_used_cards.csv')\n",
        "random = pd.read_csv('/content/drive/MyDrive/Colab Notebooks/random_monster_300_cards_validation.csv')\n",
        "randomeff = pd.read_csv('/content/drive/MyDrive/Colab Notebooks/random_monster_300_cards_validation_without_effect_monster.csv')\n",
        "randomextranormal = pd.read_csv('/content/drive/MyDrive/Colab Notebooks/random_monster_300_cards_validation_without_extra_normal.csv')\n",
        "randomnormal = pd.read_csv('/content/drive/MyDrive/Colab Notebooks/random_monster_300_cards_validation_without_only_normal.csv')"
      ],
      "metadata": {
        "id": "B8ZSy_bKheXs"
      },
      "execution_count": null,
      "outputs": []
    },
    {
      "cell_type": "code",
      "source": [
        "allcards.head()"
      ],
      "metadata": {
        "colab": {
          "base_uri": "https://localhost:8080/"
        },
        "id": "_-HqkuWmheVV",
        "outputId": "801dfe31-3ee4-4071-809b-9f9f5f6ada02"
      },
      "execution_count": null,
      "outputs": [
        {
          "output_type": "execute_result",
          "data": {
            "text/plain": [
              "         id                           name        type  \\\n",
              "0  34541863       \"A\" Cell Breeding Device  Spell Card   \n",
              "1  64163367             \"A\" Cell Incubator  Spell Card   \n",
              "2  91231901  \"A\" Cell Recombination Device  Spell Card   \n",
              "3  73262676         \"A\" Cell Scatter Burst  Spell Card   \n",
              "4  98319530     \"Infernoble Arms - Almace\"  Spell Card   \n",
              "\n",
              "                                                desc  atk  def  level  \\\n",
              "0  During each of your Standby Phases, put 1 A-Co...  NaN  NaN    NaN   \n",
              "1  Each time an A-Counter(s) is removed from play...  NaN  NaN    NaN   \n",
              "2  Target 1 face-up monster on the field; send 1 ...  NaN  NaN    NaN   \n",
              "3  Select 1 face-up \"Alien\" monster you control. ...  NaN  NaN    NaN   \n",
              "4  While this card is equipped to a monster: You ...  NaN  NaN    NaN   \n",
              "\n",
              "         race attribute  scale  ...   views  viewsweek upvotes downvotes  \\\n",
              "0  Continuous       NaN    NaN  ...  285555          0     118       110   \n",
              "1  Continuous       NaN    NaN  ...  200924          0      25        20   \n",
              "2  Quick-Play       NaN    NaN  ...  208890          0      19        15   \n",
              "3  Quick-Play       NaN    NaN  ...  157723          0      12         4   \n",
              "4       Equip       NaN    NaN  ...    6845          0       0         0   \n",
              "\n",
              "                                    formats treated_as    tcg_date  \\\n",
              "0  Duel Links|Common Charity|Edison|TCG|OCG        NaN  2007-05-16   \n",
              "1  Duel Links|Common Charity|Edison|TCG|OCG        NaN  2007-11-14   \n",
              "2         Duel Links|Common Charity|TCG|OCG        NaN  2016-11-03   \n",
              "3  Duel Links|Common Charity|Edison|TCG|OCG        NaN  2007-02-28   \n",
              "4                                       OCG        NaN         NaN   \n",
              "\n",
              "     ocg_date konami_id  has_effect  \n",
              "0  2007-02-15    7128.0           1  \n",
              "1  2007-07-21    7315.0           1  \n",
              "2  2016-07-09   12653.0           1  \n",
              "3  2006-11-16    6994.0           1  \n",
              "4  2023-04-22   18843.0           1  \n",
              "\n",
              "[5 rows x 29 columns]"
            ],
            "text/html": [
              "\n",
              "\n",
              "  <div id=\"df-206ad0e6-22ba-40e6-90e6-3cda303dd778\">\n",
              "    <div class=\"colab-df-container\">\n",
              "      <div>\n",
              "<style scoped>\n",
              "    .dataframe tbody tr th:only-of-type {\n",
              "        vertical-align: middle;\n",
              "    }\n",
              "\n",
              "    .dataframe tbody tr th {\n",
              "        vertical-align: top;\n",
              "    }\n",
              "\n",
              "    .dataframe thead th {\n",
              "        text-align: right;\n",
              "    }\n",
              "</style>\n",
              "<table border=\"1\" class=\"dataframe\">\n",
              "  <thead>\n",
              "    <tr style=\"text-align: right;\">\n",
              "      <th></th>\n",
              "      <th>id</th>\n",
              "      <th>name</th>\n",
              "      <th>type</th>\n",
              "      <th>desc</th>\n",
              "      <th>atk</th>\n",
              "      <th>def</th>\n",
              "      <th>level</th>\n",
              "      <th>race</th>\n",
              "      <th>attribute</th>\n",
              "      <th>scale</th>\n",
              "      <th>...</th>\n",
              "      <th>views</th>\n",
              "      <th>viewsweek</th>\n",
              "      <th>upvotes</th>\n",
              "      <th>downvotes</th>\n",
              "      <th>formats</th>\n",
              "      <th>treated_as</th>\n",
              "      <th>tcg_date</th>\n",
              "      <th>ocg_date</th>\n",
              "      <th>konami_id</th>\n",
              "      <th>has_effect</th>\n",
              "    </tr>\n",
              "  </thead>\n",
              "  <tbody>\n",
              "    <tr>\n",
              "      <th>0</th>\n",
              "      <td>34541863</td>\n",
              "      <td>\"A\" Cell Breeding Device</td>\n",
              "      <td>Spell Card</td>\n",
              "      <td>During each of your Standby Phases, put 1 A-Co...</td>\n",
              "      <td>NaN</td>\n",
              "      <td>NaN</td>\n",
              "      <td>NaN</td>\n",
              "      <td>Continuous</td>\n",
              "      <td>NaN</td>\n",
              "      <td>NaN</td>\n",
              "      <td>...</td>\n",
              "      <td>285555</td>\n",
              "      <td>0</td>\n",
              "      <td>118</td>\n",
              "      <td>110</td>\n",
              "      <td>Duel Links|Common Charity|Edison|TCG|OCG</td>\n",
              "      <td>NaN</td>\n",
              "      <td>2007-05-16</td>\n",
              "      <td>2007-02-15</td>\n",
              "      <td>7128.0</td>\n",
              "      <td>1</td>\n",
              "    </tr>\n",
              "    <tr>\n",
              "      <th>1</th>\n",
              "      <td>64163367</td>\n",
              "      <td>\"A\" Cell Incubator</td>\n",
              "      <td>Spell Card</td>\n",
              "      <td>Each time an A-Counter(s) is removed from play...</td>\n",
              "      <td>NaN</td>\n",
              "      <td>NaN</td>\n",
              "      <td>NaN</td>\n",
              "      <td>Continuous</td>\n",
              "      <td>NaN</td>\n",
              "      <td>NaN</td>\n",
              "      <td>...</td>\n",
              "      <td>200924</td>\n",
              "      <td>0</td>\n",
              "      <td>25</td>\n",
              "      <td>20</td>\n",
              "      <td>Duel Links|Common Charity|Edison|TCG|OCG</td>\n",
              "      <td>NaN</td>\n",
              "      <td>2007-11-14</td>\n",
              "      <td>2007-07-21</td>\n",
              "      <td>7315.0</td>\n",
              "      <td>1</td>\n",
              "    </tr>\n",
              "    <tr>\n",
              "      <th>2</th>\n",
              "      <td>91231901</td>\n",
              "      <td>\"A\" Cell Recombination Device</td>\n",
              "      <td>Spell Card</td>\n",
              "      <td>Target 1 face-up monster on the field; send 1 ...</td>\n",
              "      <td>NaN</td>\n",
              "      <td>NaN</td>\n",
              "      <td>NaN</td>\n",
              "      <td>Quick-Play</td>\n",
              "      <td>NaN</td>\n",
              "      <td>NaN</td>\n",
              "      <td>...</td>\n",
              "      <td>208890</td>\n",
              "      <td>0</td>\n",
              "      <td>19</td>\n",
              "      <td>15</td>\n",
              "      <td>Duel Links|Common Charity|TCG|OCG</td>\n",
              "      <td>NaN</td>\n",
              "      <td>2016-11-03</td>\n",
              "      <td>2016-07-09</td>\n",
              "      <td>12653.0</td>\n",
              "      <td>1</td>\n",
              "    </tr>\n",
              "    <tr>\n",
              "      <th>3</th>\n",
              "      <td>73262676</td>\n",
              "      <td>\"A\" Cell Scatter Burst</td>\n",
              "      <td>Spell Card</td>\n",
              "      <td>Select 1 face-up \"Alien\" monster you control. ...</td>\n",
              "      <td>NaN</td>\n",
              "      <td>NaN</td>\n",
              "      <td>NaN</td>\n",
              "      <td>Quick-Play</td>\n",
              "      <td>NaN</td>\n",
              "      <td>NaN</td>\n",
              "      <td>...</td>\n",
              "      <td>157723</td>\n",
              "      <td>0</td>\n",
              "      <td>12</td>\n",
              "      <td>4</td>\n",
              "      <td>Duel Links|Common Charity|Edison|TCG|OCG</td>\n",
              "      <td>NaN</td>\n",
              "      <td>2007-02-28</td>\n",
              "      <td>2006-11-16</td>\n",
              "      <td>6994.0</td>\n",
              "      <td>1</td>\n",
              "    </tr>\n",
              "    <tr>\n",
              "      <th>4</th>\n",
              "      <td>98319530</td>\n",
              "      <td>\"Infernoble Arms - Almace\"</td>\n",
              "      <td>Spell Card</td>\n",
              "      <td>While this card is equipped to a monster: You ...</td>\n",
              "      <td>NaN</td>\n",
              "      <td>NaN</td>\n",
              "      <td>NaN</td>\n",
              "      <td>Equip</td>\n",
              "      <td>NaN</td>\n",
              "      <td>NaN</td>\n",
              "      <td>...</td>\n",
              "      <td>6845</td>\n",
              "      <td>0</td>\n",
              "      <td>0</td>\n",
              "      <td>0</td>\n",
              "      <td>OCG</td>\n",
              "      <td>NaN</td>\n",
              "      <td>NaN</td>\n",
              "      <td>2023-04-22</td>\n",
              "      <td>18843.0</td>\n",
              "      <td>1</td>\n",
              "    </tr>\n",
              "  </tbody>\n",
              "</table>\n",
              "<p>5 rows × 29 columns</p>\n",
              "</div>\n",
              "      <button class=\"colab-df-convert\" onclick=\"convertToInteractive('df-206ad0e6-22ba-40e6-90e6-3cda303dd778')\"\n",
              "              title=\"Convert this dataframe to an interactive table.\"\n",
              "              style=\"display:none;\">\n",
              "\n",
              "  <svg xmlns=\"http://www.w3.org/2000/svg\" height=\"24px\"viewBox=\"0 0 24 24\"\n",
              "       width=\"24px\">\n",
              "    <path d=\"M0 0h24v24H0V0z\" fill=\"none\"/>\n",
              "    <path d=\"M18.56 5.44l.94 2.06.94-2.06 2.06-.94-2.06-.94-.94-2.06-.94 2.06-2.06.94zm-11 1L8.5 8.5l.94-2.06 2.06-.94-2.06-.94L8.5 2.5l-.94 2.06-2.06.94zm10 10l.94 2.06.94-2.06 2.06-.94-2.06-.94-.94-2.06-.94 2.06-2.06.94z\"/><path d=\"M17.41 7.96l-1.37-1.37c-.4-.4-.92-.59-1.43-.59-.52 0-1.04.2-1.43.59L10.3 9.45l-7.72 7.72c-.78.78-.78 2.05 0 2.83L4 21.41c.39.39.9.59 1.41.59.51 0 1.02-.2 1.41-.59l7.78-7.78 2.81-2.81c.8-.78.8-2.07 0-2.86zM5.41 20L4 18.59l7.72-7.72 1.47 1.35L5.41 20z\"/>\n",
              "  </svg>\n",
              "      </button>\n",
              "\n",
              "\n",
              "\n",
              "    <div id=\"df-ed2523e1-af47-416d-adee-791e18de9cbf\">\n",
              "      <button class=\"colab-df-quickchart\" onclick=\"quickchart('df-ed2523e1-af47-416d-adee-791e18de9cbf')\"\n",
              "              title=\"Suggest charts.\"\n",
              "              style=\"display:none;\">\n",
              "\n",
              "<svg xmlns=\"http://www.w3.org/2000/svg\" height=\"24px\"viewBox=\"0 0 24 24\"\n",
              "     width=\"24px\">\n",
              "    <g>\n",
              "        <path d=\"M19 3H5c-1.1 0-2 .9-2 2v14c0 1.1.9 2 2 2h14c1.1 0 2-.9 2-2V5c0-1.1-.9-2-2-2zM9 17H7v-7h2v7zm4 0h-2V7h2v10zm4 0h-2v-4h2v4z\"/>\n",
              "    </g>\n",
              "</svg>\n",
              "      </button>\n",
              "    </div>\n",
              "\n",
              "<style>\n",
              "  .colab-df-quickchart {\n",
              "    background-color: #E8F0FE;\n",
              "    border: none;\n",
              "    border-radius: 50%;\n",
              "    cursor: pointer;\n",
              "    display: none;\n",
              "    fill: #1967D2;\n",
              "    height: 32px;\n",
              "    padding: 0 0 0 0;\n",
              "    width: 32px;\n",
              "  }\n",
              "\n",
              "  .colab-df-quickchart:hover {\n",
              "    background-color: #E2EBFA;\n",
              "    box-shadow: 0px 1px 2px rgba(60, 64, 67, 0.3), 0px 1px 3px 1px rgba(60, 64, 67, 0.15);\n",
              "    fill: #174EA6;\n",
              "  }\n",
              "\n",
              "  [theme=dark] .colab-df-quickchart {\n",
              "    background-color: #3B4455;\n",
              "    fill: #D2E3FC;\n",
              "  }\n",
              "\n",
              "  [theme=dark] .colab-df-quickchart:hover {\n",
              "    background-color: #434B5C;\n",
              "    box-shadow: 0px 1px 3px 1px rgba(0, 0, 0, 0.15);\n",
              "    filter: drop-shadow(0px 1px 2px rgba(0, 0, 0, 0.3));\n",
              "    fill: #FFFFFF;\n",
              "  }\n",
              "</style>\n",
              "\n",
              "    <script>\n",
              "      async function quickchart(key) {\n",
              "        const containerElement = document.querySelector('#' + key);\n",
              "        const charts = await google.colab.kernel.invokeFunction(\n",
              "            'suggestCharts', [key], {});\n",
              "      }\n",
              "    </script>\n",
              "\n",
              "      <script>\n",
              "\n",
              "function displayQuickchartButton(domScope) {\n",
              "  let quickchartButtonEl =\n",
              "    domScope.querySelector('#df-ed2523e1-af47-416d-adee-791e18de9cbf button.colab-df-quickchart');\n",
              "  quickchartButtonEl.style.display =\n",
              "    google.colab.kernel.accessAllowed ? 'block' : 'none';\n",
              "}\n",
              "\n",
              "        displayQuickchartButton(document);\n",
              "      </script>\n",
              "      <style>\n",
              "    .colab-df-container {\n",
              "      display:flex;\n",
              "      flex-wrap:wrap;\n",
              "      gap: 12px;\n",
              "    }\n",
              "\n",
              "    .colab-df-convert {\n",
              "      background-color: #E8F0FE;\n",
              "      border: none;\n",
              "      border-radius: 50%;\n",
              "      cursor: pointer;\n",
              "      display: none;\n",
              "      fill: #1967D2;\n",
              "      height: 32px;\n",
              "      padding: 0 0 0 0;\n",
              "      width: 32px;\n",
              "    }\n",
              "\n",
              "    .colab-df-convert:hover {\n",
              "      background-color: #E2EBFA;\n",
              "      box-shadow: 0px 1px 2px rgba(60, 64, 67, 0.3), 0px 1px 3px 1px rgba(60, 64, 67, 0.15);\n",
              "      fill: #174EA6;\n",
              "    }\n",
              "\n",
              "    [theme=dark] .colab-df-convert {\n",
              "      background-color: #3B4455;\n",
              "      fill: #D2E3FC;\n",
              "    }\n",
              "\n",
              "    [theme=dark] .colab-df-convert:hover {\n",
              "      background-color: #434B5C;\n",
              "      box-shadow: 0px 1px 3px 1px rgba(0, 0, 0, 0.15);\n",
              "      filter: drop-shadow(0px 1px 2px rgba(0, 0, 0, 0.3));\n",
              "      fill: #FFFFFF;\n",
              "    }\n",
              "  </style>\n",
              "\n",
              "      <script>\n",
              "        const buttonEl =\n",
              "          document.querySelector('#df-206ad0e6-22ba-40e6-90e6-3cda303dd778 button.colab-df-convert');\n",
              "        buttonEl.style.display =\n",
              "          google.colab.kernel.accessAllowed ? 'block' : 'none';\n",
              "\n",
              "        async function convertToInteractive(key) {\n",
              "          const element = document.querySelector('#df-206ad0e6-22ba-40e6-90e6-3cda303dd778');\n",
              "          const dataTable =\n",
              "            await google.colab.kernel.invokeFunction('convertToInteractive',\n",
              "                                                     [key], {});\n",
              "          if (!dataTable) return;\n",
              "\n",
              "          const docLinkHtml = 'Like what you see? Visit the ' +\n",
              "            '<a target=\"_blank\" href=https://colab.research.google.com/notebooks/data_table.ipynb>data table notebook</a>'\n",
              "            + ' to learn more about interactive tables.';\n",
              "          element.innerHTML = '';\n",
              "          dataTable['output_type'] = 'display_data';\n",
              "          await google.colab.output.renderOutput(dataTable, element);\n",
              "          const docLink = document.createElement('div');\n",
              "          docLink.innerHTML = docLinkHtml;\n",
              "          element.appendChild(docLink);\n",
              "        }\n",
              "      </script>\n",
              "    </div>\n",
              "  </div>\n"
            ]
          },
          "metadata": {},
          "execution_count": 2375
        }
      ]
    },
    {
      "cell_type": "markdown",
      "source": [],
      "metadata": {
        "id": "TfH_nOPD6OC5"
      }
    },
    {
      "cell_type": "markdown",
      "source": [
        "## Machine Learning:"
      ],
      "metadata": {
        "id": "mFznDCFu6cj9"
      }
    },
    {
      "cell_type": "markdown",
      "source": [
        "### Seleção do dataset de cartas e trativas"
      ],
      "metadata": {
        "id": "Q_5i7KwiyCId"
      }
    },
    {
      "cell_type": "code",
      "source": [
        "allcards.info()"
      ],
      "metadata": {
        "colab": {
          "base_uri": "https://localhost:8080/"
        },
        "id": "h4TAzXQPidyy",
        "outputId": "7ff94a21-d5ba-426f-d4ed-dbad80f941ae"
      },
      "execution_count": null,
      "outputs": [
        {
          "output_type": "stream",
          "name": "stdout",
          "text": [
            "<class 'pandas.core.frame.DataFrame'>\n",
            "RangeIndex: 12648 entries, 0 to 12647\n",
            "Data columns (total 29 columns):\n",
            " #   Column           Non-Null Count  Dtype  \n",
            "---  ------           --------------  -----  \n",
            " 0   id               12648 non-null  int64  \n",
            " 1   name             12648 non-null  object \n",
            " 2   type             12648 non-null  object \n",
            " 3   desc             12648 non-null  object \n",
            " 4   atk              8231 non-null   float64\n",
            " 5   def              7850 non-null   float64\n",
            " 6   level            7850 non-null   float64\n",
            " 7   race             12647 non-null  object \n",
            " 8   attribute        8231 non-null   object \n",
            " 9   scale            333 non-null    float64\n",
            " 10  archetype        7286 non-null   object \n",
            " 11  linkval          381 non-null    float64\n",
            " 12  linkmarkers      381 non-null    object \n",
            " 13  image_url        12648 non-null  object \n",
            " 14  image_url_small  12648 non-null  object \n",
            " 15  ban_tcg          192 non-null    object \n",
            " 16  ban_ocg          190 non-null    object \n",
            " 17  ban_goat         73 non-null     object \n",
            " 18  staple           64 non-null     object \n",
            " 19  views            12648 non-null  int64  \n",
            " 20  viewsweek        12648 non-null  int64  \n",
            " 21  upvotes          12648 non-null  int64  \n",
            " 22  downvotes        12648 non-null  int64  \n",
            " 23  formats          12634 non-null  object \n",
            " 24  treated_as       104 non-null    object \n",
            " 25  tcg_date         12196 non-null  object \n",
            " 26  ocg_date         12337 non-null  object \n",
            " 27  konami_id        12265 non-null  float64\n",
            " 28  has_effect       12648 non-null  int64  \n",
            "dtypes: float64(6), int64(6), object(17)\n",
            "memory usage: 2.8+ MB\n"
          ]
        }
      ]
    },
    {
      "cell_type": "code",
      "source": [
        "# Aqui estamos eliminando colunas que trazem informações secundárias sobre as cartas e que não fazem sentido para nossa proposta.\n",
        "Cards =  allcards.drop(['image_url','image_url_small','ban_tcg','ban_ocg','ban_goat','staple','views','viewsweek','upvotes','downvotes','formats','treated_as','tcg_date','ocg_date','konami_id','has_effect'], axis=1)"
      ],
      "metadata": {
        "id": "R3ZLwUC-heQ9"
      },
      "execution_count": null,
      "outputs": []
    },
    {
      "cell_type": "markdown",
      "source": [
        "### Seleção de cartas do tipo Monstro"
      ],
      "metadata": {
        "id": "vnHgDxR5yONG"
      }
    },
    {
      "cell_type": "code",
      "source": [
        "#Filtrando todas as cartas que não do tipo Monstro\n",
        "Cards = Cards[Cards['type'] != 'Skill Card']\n",
        "Cards = Cards[Cards['type'] != 'Spell Card']\n",
        "Monsters = Cards[Cards['type'] != 'Trap Card']"
      ],
      "metadata": {
        "id": "KjYfxHrpk2Fd"
      },
      "execution_count": null,
      "outputs": []
    },
    {
      "cell_type": "code",
      "source": [
        "Monsters.head()"
      ],
      "metadata": {
        "colab": {
          "base_uri": "https://localhost:8080/",
          "height": 337
        },
        "id": "a3qJdtI-k2DD",
        "outputId": "f4a4e63a-a44b-448c-c313-6c519a0d50aa"
      },
      "execution_count": null,
      "outputs": [
        {
          "output_type": "execute_result",
          "data": {
            "text/plain": [
              "          id                       name                 type  \\\n",
              "9   86988864             3-Hump Lacooda       Effect Monster   \n",
              "10  11714098   30,000-Year White Turtle       Normal Monster   \n",
              "11  83994646  4-Starred Ladybug of Doom  Flip Effect Monster   \n",
              "13  23771716             7 Colored Fish       Normal Monster   \n",
              "15  14261867           8-Claws Scorpion       Effect Monster   \n",
              "\n",
              "                                                 desc     atk     def  level  \\\n",
              "9   If there are 3 face-up \"3-Hump Lacooda\" cards ...   500.0  1500.0    3.0   \n",
              "10  A huge turtle that has existed for more than 3...  1250.0  2100.0    5.0   \n",
              "11  FLIP: Destroy all Level 4 monsters your oppone...   800.0  1200.0    3.0   \n",
              "13  A rare rainbow fish that has never been caught...  1800.0   800.0    4.0   \n",
              "15  Once per turn, you can flip this card into fac...   300.0   200.0    2.0   \n",
              "\n",
              "      race attribute  scale archetype  linkval linkmarkers  \n",
              "9    Beast     EARTH    NaN       NaN      NaN         NaN  \n",
              "10    Aqua     WATER    NaN       NaN      NaN         NaN  \n",
              "11  Insect      WIND    NaN       NaN      NaN         NaN  \n",
              "13    Fish     WATER    NaN       NaN      NaN         NaN  \n",
              "15  Insect      DARK    NaN       NaN      NaN         NaN  "
            ],
            "text/html": [
              "\n",
              "\n",
              "  <div id=\"df-5a1ea6fc-a27d-4693-ab46-5d54a8473f41\">\n",
              "    <div class=\"colab-df-container\">\n",
              "      <div>\n",
              "<style scoped>\n",
              "    .dataframe tbody tr th:only-of-type {\n",
              "        vertical-align: middle;\n",
              "    }\n",
              "\n",
              "    .dataframe tbody tr th {\n",
              "        vertical-align: top;\n",
              "    }\n",
              "\n",
              "    .dataframe thead th {\n",
              "        text-align: right;\n",
              "    }\n",
              "</style>\n",
              "<table border=\"1\" class=\"dataframe\">\n",
              "  <thead>\n",
              "    <tr style=\"text-align: right;\">\n",
              "      <th></th>\n",
              "      <th>id</th>\n",
              "      <th>name</th>\n",
              "      <th>type</th>\n",
              "      <th>desc</th>\n",
              "      <th>atk</th>\n",
              "      <th>def</th>\n",
              "      <th>level</th>\n",
              "      <th>race</th>\n",
              "      <th>attribute</th>\n",
              "      <th>scale</th>\n",
              "      <th>archetype</th>\n",
              "      <th>linkval</th>\n",
              "      <th>linkmarkers</th>\n",
              "    </tr>\n",
              "  </thead>\n",
              "  <tbody>\n",
              "    <tr>\n",
              "      <th>9</th>\n",
              "      <td>86988864</td>\n",
              "      <td>3-Hump Lacooda</td>\n",
              "      <td>Effect Monster</td>\n",
              "      <td>If there are 3 face-up \"3-Hump Lacooda\" cards ...</td>\n",
              "      <td>500.0</td>\n",
              "      <td>1500.0</td>\n",
              "      <td>3.0</td>\n",
              "      <td>Beast</td>\n",
              "      <td>EARTH</td>\n",
              "      <td>NaN</td>\n",
              "      <td>NaN</td>\n",
              "      <td>NaN</td>\n",
              "      <td>NaN</td>\n",
              "    </tr>\n",
              "    <tr>\n",
              "      <th>10</th>\n",
              "      <td>11714098</td>\n",
              "      <td>30,000-Year White Turtle</td>\n",
              "      <td>Normal Monster</td>\n",
              "      <td>A huge turtle that has existed for more than 3...</td>\n",
              "      <td>1250.0</td>\n",
              "      <td>2100.0</td>\n",
              "      <td>5.0</td>\n",
              "      <td>Aqua</td>\n",
              "      <td>WATER</td>\n",
              "      <td>NaN</td>\n",
              "      <td>NaN</td>\n",
              "      <td>NaN</td>\n",
              "      <td>NaN</td>\n",
              "    </tr>\n",
              "    <tr>\n",
              "      <th>11</th>\n",
              "      <td>83994646</td>\n",
              "      <td>4-Starred Ladybug of Doom</td>\n",
              "      <td>Flip Effect Monster</td>\n",
              "      <td>FLIP: Destroy all Level 4 monsters your oppone...</td>\n",
              "      <td>800.0</td>\n",
              "      <td>1200.0</td>\n",
              "      <td>3.0</td>\n",
              "      <td>Insect</td>\n",
              "      <td>WIND</td>\n",
              "      <td>NaN</td>\n",
              "      <td>NaN</td>\n",
              "      <td>NaN</td>\n",
              "      <td>NaN</td>\n",
              "    </tr>\n",
              "    <tr>\n",
              "      <th>13</th>\n",
              "      <td>23771716</td>\n",
              "      <td>7 Colored Fish</td>\n",
              "      <td>Normal Monster</td>\n",
              "      <td>A rare rainbow fish that has never been caught...</td>\n",
              "      <td>1800.0</td>\n",
              "      <td>800.0</td>\n",
              "      <td>4.0</td>\n",
              "      <td>Fish</td>\n",
              "      <td>WATER</td>\n",
              "      <td>NaN</td>\n",
              "      <td>NaN</td>\n",
              "      <td>NaN</td>\n",
              "      <td>NaN</td>\n",
              "    </tr>\n",
              "    <tr>\n",
              "      <th>15</th>\n",
              "      <td>14261867</td>\n",
              "      <td>8-Claws Scorpion</td>\n",
              "      <td>Effect Monster</td>\n",
              "      <td>Once per turn, you can flip this card into fac...</td>\n",
              "      <td>300.0</td>\n",
              "      <td>200.0</td>\n",
              "      <td>2.0</td>\n",
              "      <td>Insect</td>\n",
              "      <td>DARK</td>\n",
              "      <td>NaN</td>\n",
              "      <td>NaN</td>\n",
              "      <td>NaN</td>\n",
              "      <td>NaN</td>\n",
              "    </tr>\n",
              "  </tbody>\n",
              "</table>\n",
              "</div>\n",
              "      <button class=\"colab-df-convert\" onclick=\"convertToInteractive('df-5a1ea6fc-a27d-4693-ab46-5d54a8473f41')\"\n",
              "              title=\"Convert this dataframe to an interactive table.\"\n",
              "              style=\"display:none;\">\n",
              "\n",
              "  <svg xmlns=\"http://www.w3.org/2000/svg\" height=\"24px\"viewBox=\"0 0 24 24\"\n",
              "       width=\"24px\">\n",
              "    <path d=\"M0 0h24v24H0V0z\" fill=\"none\"/>\n",
              "    <path d=\"M18.56 5.44l.94 2.06.94-2.06 2.06-.94-2.06-.94-.94-2.06-.94 2.06-2.06.94zm-11 1L8.5 8.5l.94-2.06 2.06-.94-2.06-.94L8.5 2.5l-.94 2.06-2.06.94zm10 10l.94 2.06.94-2.06 2.06-.94-2.06-.94-.94-2.06-.94 2.06-2.06.94z\"/><path d=\"M17.41 7.96l-1.37-1.37c-.4-.4-.92-.59-1.43-.59-.52 0-1.04.2-1.43.59L10.3 9.45l-7.72 7.72c-.78.78-.78 2.05 0 2.83L4 21.41c.39.39.9.59 1.41.59.51 0 1.02-.2 1.41-.59l7.78-7.78 2.81-2.81c.8-.78.8-2.07 0-2.86zM5.41 20L4 18.59l7.72-7.72 1.47 1.35L5.41 20z\"/>\n",
              "  </svg>\n",
              "      </button>\n",
              "\n",
              "\n",
              "\n",
              "    <div id=\"df-f4859806-c63a-442e-b02c-1192f237e1b7\">\n",
              "      <button class=\"colab-df-quickchart\" onclick=\"quickchart('df-f4859806-c63a-442e-b02c-1192f237e1b7')\"\n",
              "              title=\"Suggest charts.\"\n",
              "              style=\"display:none;\">\n",
              "\n",
              "<svg xmlns=\"http://www.w3.org/2000/svg\" height=\"24px\"viewBox=\"0 0 24 24\"\n",
              "     width=\"24px\">\n",
              "    <g>\n",
              "        <path d=\"M19 3H5c-1.1 0-2 .9-2 2v14c0 1.1.9 2 2 2h14c1.1 0 2-.9 2-2V5c0-1.1-.9-2-2-2zM9 17H7v-7h2v7zm4 0h-2V7h2v10zm4 0h-2v-4h2v4z\"/>\n",
              "    </g>\n",
              "</svg>\n",
              "      </button>\n",
              "    </div>\n",
              "\n",
              "<style>\n",
              "  .colab-df-quickchart {\n",
              "    background-color: #E8F0FE;\n",
              "    border: none;\n",
              "    border-radius: 50%;\n",
              "    cursor: pointer;\n",
              "    display: none;\n",
              "    fill: #1967D2;\n",
              "    height: 32px;\n",
              "    padding: 0 0 0 0;\n",
              "    width: 32px;\n",
              "  }\n",
              "\n",
              "  .colab-df-quickchart:hover {\n",
              "    background-color: #E2EBFA;\n",
              "    box-shadow: 0px 1px 2px rgba(60, 64, 67, 0.3), 0px 1px 3px 1px rgba(60, 64, 67, 0.15);\n",
              "    fill: #174EA6;\n",
              "  }\n",
              "\n",
              "  [theme=dark] .colab-df-quickchart {\n",
              "    background-color: #3B4455;\n",
              "    fill: #D2E3FC;\n",
              "  }\n",
              "\n",
              "  [theme=dark] .colab-df-quickchart:hover {\n",
              "    background-color: #434B5C;\n",
              "    box-shadow: 0px 1px 3px 1px rgba(0, 0, 0, 0.15);\n",
              "    filter: drop-shadow(0px 1px 2px rgba(0, 0, 0, 0.3));\n",
              "    fill: #FFFFFF;\n",
              "  }\n",
              "</style>\n",
              "\n",
              "    <script>\n",
              "      async function quickchart(key) {\n",
              "        const containerElement = document.querySelector('#' + key);\n",
              "        const charts = await google.colab.kernel.invokeFunction(\n",
              "            'suggestCharts', [key], {});\n",
              "      }\n",
              "    </script>\n",
              "\n",
              "      <script>\n",
              "\n",
              "function displayQuickchartButton(domScope) {\n",
              "  let quickchartButtonEl =\n",
              "    domScope.querySelector('#df-f4859806-c63a-442e-b02c-1192f237e1b7 button.colab-df-quickchart');\n",
              "  quickchartButtonEl.style.display =\n",
              "    google.colab.kernel.accessAllowed ? 'block' : 'none';\n",
              "}\n",
              "\n",
              "        displayQuickchartButton(document);\n",
              "      </script>\n",
              "      <style>\n",
              "    .colab-df-container {\n",
              "      display:flex;\n",
              "      flex-wrap:wrap;\n",
              "      gap: 12px;\n",
              "    }\n",
              "\n",
              "    .colab-df-convert {\n",
              "      background-color: #E8F0FE;\n",
              "      border: none;\n",
              "      border-radius: 50%;\n",
              "      cursor: pointer;\n",
              "      display: none;\n",
              "      fill: #1967D2;\n",
              "      height: 32px;\n",
              "      padding: 0 0 0 0;\n",
              "      width: 32px;\n",
              "    }\n",
              "\n",
              "    .colab-df-convert:hover {\n",
              "      background-color: #E2EBFA;\n",
              "      box-shadow: 0px 1px 2px rgba(60, 64, 67, 0.3), 0px 1px 3px 1px rgba(60, 64, 67, 0.15);\n",
              "      fill: #174EA6;\n",
              "    }\n",
              "\n",
              "    [theme=dark] .colab-df-convert {\n",
              "      background-color: #3B4455;\n",
              "      fill: #D2E3FC;\n",
              "    }\n",
              "\n",
              "    [theme=dark] .colab-df-convert:hover {\n",
              "      background-color: #434B5C;\n",
              "      box-shadow: 0px 1px 3px 1px rgba(0, 0, 0, 0.15);\n",
              "      filter: drop-shadow(0px 1px 2px rgba(0, 0, 0, 0.3));\n",
              "      fill: #FFFFFF;\n",
              "    }\n",
              "  </style>\n",
              "\n",
              "      <script>\n",
              "        const buttonEl =\n",
              "          document.querySelector('#df-5a1ea6fc-a27d-4693-ab46-5d54a8473f41 button.colab-df-convert');\n",
              "        buttonEl.style.display =\n",
              "          google.colab.kernel.accessAllowed ? 'block' : 'none';\n",
              "\n",
              "        async function convertToInteractive(key) {\n",
              "          const element = document.querySelector('#df-5a1ea6fc-a27d-4693-ab46-5d54a8473f41');\n",
              "          const dataTable =\n",
              "            await google.colab.kernel.invokeFunction('convertToInteractive',\n",
              "                                                     [key], {});\n",
              "          if (!dataTable) return;\n",
              "\n",
              "          const docLinkHtml = 'Like what you see? Visit the ' +\n",
              "            '<a target=\"_blank\" href=https://colab.research.google.com/notebooks/data_table.ipynb>data table notebook</a>'\n",
              "            + ' to learn more about interactive tables.';\n",
              "          element.innerHTML = '';\n",
              "          dataTable['output_type'] = 'display_data';\n",
              "          await google.colab.output.renderOutput(dataTable, element);\n",
              "          const docLink = document.createElement('div');\n",
              "          docLink.innerHTML = docLinkHtml;\n",
              "          element.appendChild(docLink);\n",
              "        }\n",
              "      </script>\n",
              "    </div>\n",
              "  </div>\n"
            ]
          },
          "metadata": {},
          "execution_count": 2379
        }
      ]
    },
    {
      "cell_type": "code",
      "source": [
        "Monsters['type'].value_counts()"
      ],
      "metadata": {
        "colab": {
          "base_uri": "https://localhost:8080/"
        },
        "id": "tNkB0QJaotM8",
        "outputId": "20618cd0-ba99-4b12-f697-824365c4a82b"
      },
      "execution_count": null,
      "outputs": [
        {
          "output_type": "execute_result",
          "data": {
            "text/plain": [
              "Effect Monster                     4520\n",
              "Normal Monster                      657\n",
              "XYZ Monster                         489\n",
              "Fusion Monster                      437\n",
              "Tuner Monster                       437\n",
              "Synchro Monster                     402\n",
              "Link Monster                        381\n",
              "Pendulum Effect Monster             254\n",
              "Flip Effect Monster                 178\n",
              "Ritual Effect Monster               111\n",
              "Token                               107\n",
              "Gemini Monster                       45\n",
              "Pendulum Normal Monster              42\n",
              "Union Effect Monster                 36\n",
              "Spirit Monster                       33\n",
              "Synchro Tuner Monster                23\n",
              "Toon Monster                         17\n",
              "Ritual Monster                       15\n",
              "Pendulum Effect Fusion Monster       11\n",
              "Normal Tuner Monster                 10\n",
              "XYZ Pendulum Effect Monster           9\n",
              "Pendulum Tuner Effect Monster         8\n",
              "Synchro Pendulum Effect Monster       7\n",
              "Pendulum Effect Ritual Monster        1\n",
              "Pendulum Flip Effect Monster          1\n",
              "Name: type, dtype: int64"
            ]
          },
          "metadata": {},
          "execution_count": 2380
        }
      ]
    },
    {
      "cell_type": "markdown",
      "source": [
        "### Seleção das cartas de Monstros do Extra Deck"
      ],
      "metadata": {
        "id": "axhqgz46yT2q"
      }
    },
    {
      "cell_type": "code",
      "source": [
        "# Uma vez filtrados os Monstros seguimos filtrando buscando somente Monstros de Extra Deck!\n",
        "Monstersfiltered = Monsters[Monsters['type'] != 'Effect Monster']\n",
        "Monstersfiltered = Monstersfiltered[Monstersfiltered['type'] != 'Normal Monster']\n",
        "Monstersfiltered = Monstersfiltered[Monstersfiltered['type'] != 'Tuner Monster']\n",
        "Monstersfiltered = Monstersfiltered[Monstersfiltered['type'] != 'Flip Effect Monster']\n",
        "Monstersfiltered = Monstersfiltered[Monstersfiltered['type'] != 'Token']\n",
        "Monstersfiltered = Monstersfiltered[Monstersfiltered['type'] != 'Ritual Effect Monster']\n",
        "Monstersfiltered = Monstersfiltered[Monstersfiltered['type'] != 'Gemini Monster']\n",
        "Monstersfiltered = Monstersfiltered[Monstersfiltered['type'] != 'Union Effect Monster']\n",
        "Monstersfiltered = Monstersfiltered[Monstersfiltered['type'] != 'Spirit Monster']\n",
        "Monstersfiltered = Monstersfiltered[Monstersfiltered['type'] != 'Toon Monster']\n",
        "Monstersfiltered = Monstersfiltered[Monstersfiltered['type'] != 'Ritual Monster']\n",
        "ExtraMonsters = Monstersfiltered[Monstersfiltered['type'] != 'Normal Tuner Monster']"
      ],
      "metadata": {
        "id": "MOYWDW7JotKT"
      },
      "execution_count": null,
      "outputs": []
    },
    {
      "cell_type": "code",
      "source": [
        "ExtraMonsters.head()"
      ],
      "metadata": {
        "colab": {
          "base_uri": "https://localhost:8080/"
        },
        "id": "h5YLw3khotH1",
        "outputId": "5c3adfaf-67bf-495e-ad69-a63fedc341cb"
      },
      "execution_count": null,
      "outputs": [
        {
          "output_type": "execute_result",
          "data": {
            "text/plain": [
              "          id                          name                     type  \\\n",
              "31  65172015   A-to-Z-Dragon Buster Cannon           Fusion Monster   \n",
              "42   1561110             ABC-Dragon Buster           Fusion Monster   \n",
              "56  15308295    Abyss Actor - Comic Relief  Pendulum Effect Monster   \n",
              "57  44179224  Abyss Actor - Curtain Raiser  Pendulum Effect Monster   \n",
              "58  52240819       Abyss Actor - Evil Heel  Pendulum Effect Monster   \n",
              "\n",
              "                                                 desc     atk     def  level  \\\n",
              "31  \"ABC-Dragon Buster\" + \"XYZ-Dragon Cannon\"\\nMus...  4000.0  4000.0   10.0   \n",
              "42  \"A-Assault Core\" + \"B-Buster Drake\" + \"C-Crush...  3000.0  2800.0    8.0   \n",
              "56  [ Pendulum Effect ] You can target 1 \"Abyss Ac...  1000.0  2000.0    3.0   \n",
              "57  [ Pendulum Effect ]\\r\\nIf you control no monst...  1100.0  1000.0    4.0   \n",
              "58  [ Pendulum Effect ]\\r\\nOnce per turn: You can ...  3000.0  2000.0    8.0   \n",
              "\n",
              "       race attribute  scale    archetype  linkval linkmarkers  \n",
              "31  Machine     LIGHT    NaN          ABC      NaN         NaN  \n",
              "42  Machine     LIGHT    NaN          ABC      NaN         NaN  \n",
              "56    Fiend      DARK    8.0  Abyss Actor      NaN         NaN  \n",
              "57    Fiend      DARK    7.0  Abyss Actor      NaN         NaN  \n",
              "58    Fiend      DARK    1.0  Abyss Actor      NaN         NaN  "
            ],
            "text/html": [
              "\n",
              "\n",
              "  <div id=\"df-34856625-2427-4bd8-a363-48bba69d9bb7\">\n",
              "    <div class=\"colab-df-container\">\n",
              "      <div>\n",
              "<style scoped>\n",
              "    .dataframe tbody tr th:only-of-type {\n",
              "        vertical-align: middle;\n",
              "    }\n",
              "\n",
              "    .dataframe tbody tr th {\n",
              "        vertical-align: top;\n",
              "    }\n",
              "\n",
              "    .dataframe thead th {\n",
              "        text-align: right;\n",
              "    }\n",
              "</style>\n",
              "<table border=\"1\" class=\"dataframe\">\n",
              "  <thead>\n",
              "    <tr style=\"text-align: right;\">\n",
              "      <th></th>\n",
              "      <th>id</th>\n",
              "      <th>name</th>\n",
              "      <th>type</th>\n",
              "      <th>desc</th>\n",
              "      <th>atk</th>\n",
              "      <th>def</th>\n",
              "      <th>level</th>\n",
              "      <th>race</th>\n",
              "      <th>attribute</th>\n",
              "      <th>scale</th>\n",
              "      <th>archetype</th>\n",
              "      <th>linkval</th>\n",
              "      <th>linkmarkers</th>\n",
              "    </tr>\n",
              "  </thead>\n",
              "  <tbody>\n",
              "    <tr>\n",
              "      <th>31</th>\n",
              "      <td>65172015</td>\n",
              "      <td>A-to-Z-Dragon Buster Cannon</td>\n",
              "      <td>Fusion Monster</td>\n",
              "      <td>\"ABC-Dragon Buster\" + \"XYZ-Dragon Cannon\"\\nMus...</td>\n",
              "      <td>4000.0</td>\n",
              "      <td>4000.0</td>\n",
              "      <td>10.0</td>\n",
              "      <td>Machine</td>\n",
              "      <td>LIGHT</td>\n",
              "      <td>NaN</td>\n",
              "      <td>ABC</td>\n",
              "      <td>NaN</td>\n",
              "      <td>NaN</td>\n",
              "    </tr>\n",
              "    <tr>\n",
              "      <th>42</th>\n",
              "      <td>1561110</td>\n",
              "      <td>ABC-Dragon Buster</td>\n",
              "      <td>Fusion Monster</td>\n",
              "      <td>\"A-Assault Core\" + \"B-Buster Drake\" + \"C-Crush...</td>\n",
              "      <td>3000.0</td>\n",
              "      <td>2800.0</td>\n",
              "      <td>8.0</td>\n",
              "      <td>Machine</td>\n",
              "      <td>LIGHT</td>\n",
              "      <td>NaN</td>\n",
              "      <td>ABC</td>\n",
              "      <td>NaN</td>\n",
              "      <td>NaN</td>\n",
              "    </tr>\n",
              "    <tr>\n",
              "      <th>56</th>\n",
              "      <td>15308295</td>\n",
              "      <td>Abyss Actor - Comic Relief</td>\n",
              "      <td>Pendulum Effect Monster</td>\n",
              "      <td>[ Pendulum Effect ] You can target 1 \"Abyss Ac...</td>\n",
              "      <td>1000.0</td>\n",
              "      <td>2000.0</td>\n",
              "      <td>3.0</td>\n",
              "      <td>Fiend</td>\n",
              "      <td>DARK</td>\n",
              "      <td>8.0</td>\n",
              "      <td>Abyss Actor</td>\n",
              "      <td>NaN</td>\n",
              "      <td>NaN</td>\n",
              "    </tr>\n",
              "    <tr>\n",
              "      <th>57</th>\n",
              "      <td>44179224</td>\n",
              "      <td>Abyss Actor - Curtain Raiser</td>\n",
              "      <td>Pendulum Effect Monster</td>\n",
              "      <td>[ Pendulum Effect ]\\r\\nIf you control no monst...</td>\n",
              "      <td>1100.0</td>\n",
              "      <td>1000.0</td>\n",
              "      <td>4.0</td>\n",
              "      <td>Fiend</td>\n",
              "      <td>DARK</td>\n",
              "      <td>7.0</td>\n",
              "      <td>Abyss Actor</td>\n",
              "      <td>NaN</td>\n",
              "      <td>NaN</td>\n",
              "    </tr>\n",
              "    <tr>\n",
              "      <th>58</th>\n",
              "      <td>52240819</td>\n",
              "      <td>Abyss Actor - Evil Heel</td>\n",
              "      <td>Pendulum Effect Monster</td>\n",
              "      <td>[ Pendulum Effect ]\\r\\nOnce per turn: You can ...</td>\n",
              "      <td>3000.0</td>\n",
              "      <td>2000.0</td>\n",
              "      <td>8.0</td>\n",
              "      <td>Fiend</td>\n",
              "      <td>DARK</td>\n",
              "      <td>1.0</td>\n",
              "      <td>Abyss Actor</td>\n",
              "      <td>NaN</td>\n",
              "      <td>NaN</td>\n",
              "    </tr>\n",
              "  </tbody>\n",
              "</table>\n",
              "</div>\n",
              "      <button class=\"colab-df-convert\" onclick=\"convertToInteractive('df-34856625-2427-4bd8-a363-48bba69d9bb7')\"\n",
              "              title=\"Convert this dataframe to an interactive table.\"\n",
              "              style=\"display:none;\">\n",
              "\n",
              "  <svg xmlns=\"http://www.w3.org/2000/svg\" height=\"24px\"viewBox=\"0 0 24 24\"\n",
              "       width=\"24px\">\n",
              "    <path d=\"M0 0h24v24H0V0z\" fill=\"none\"/>\n",
              "    <path d=\"M18.56 5.44l.94 2.06.94-2.06 2.06-.94-2.06-.94-.94-2.06-.94 2.06-2.06.94zm-11 1L8.5 8.5l.94-2.06 2.06-.94-2.06-.94L8.5 2.5l-.94 2.06-2.06.94zm10 10l.94 2.06.94-2.06 2.06-.94-2.06-.94-.94-2.06-.94 2.06-2.06.94z\"/><path d=\"M17.41 7.96l-1.37-1.37c-.4-.4-.92-.59-1.43-.59-.52 0-1.04.2-1.43.59L10.3 9.45l-7.72 7.72c-.78.78-.78 2.05 0 2.83L4 21.41c.39.39.9.59 1.41.59.51 0 1.02-.2 1.41-.59l7.78-7.78 2.81-2.81c.8-.78.8-2.07 0-2.86zM5.41 20L4 18.59l7.72-7.72 1.47 1.35L5.41 20z\"/>\n",
              "  </svg>\n",
              "      </button>\n",
              "\n",
              "\n",
              "\n",
              "    <div id=\"df-c4f01808-de15-448a-8afa-29a9d3afc42e\">\n",
              "      <button class=\"colab-df-quickchart\" onclick=\"quickchart('df-c4f01808-de15-448a-8afa-29a9d3afc42e')\"\n",
              "              title=\"Suggest charts.\"\n",
              "              style=\"display:none;\">\n",
              "\n",
              "<svg xmlns=\"http://www.w3.org/2000/svg\" height=\"24px\"viewBox=\"0 0 24 24\"\n",
              "     width=\"24px\">\n",
              "    <g>\n",
              "        <path d=\"M19 3H5c-1.1 0-2 .9-2 2v14c0 1.1.9 2 2 2h14c1.1 0 2-.9 2-2V5c0-1.1-.9-2-2-2zM9 17H7v-7h2v7zm4 0h-2V7h2v10zm4 0h-2v-4h2v4z\"/>\n",
              "    </g>\n",
              "</svg>\n",
              "      </button>\n",
              "    </div>\n",
              "\n",
              "<style>\n",
              "  .colab-df-quickchart {\n",
              "    background-color: #E8F0FE;\n",
              "    border: none;\n",
              "    border-radius: 50%;\n",
              "    cursor: pointer;\n",
              "    display: none;\n",
              "    fill: #1967D2;\n",
              "    height: 32px;\n",
              "    padding: 0 0 0 0;\n",
              "    width: 32px;\n",
              "  }\n",
              "\n",
              "  .colab-df-quickchart:hover {\n",
              "    background-color: #E2EBFA;\n",
              "    box-shadow: 0px 1px 2px rgba(60, 64, 67, 0.3), 0px 1px 3px 1px rgba(60, 64, 67, 0.15);\n",
              "    fill: #174EA6;\n",
              "  }\n",
              "\n",
              "  [theme=dark] .colab-df-quickchart {\n",
              "    background-color: #3B4455;\n",
              "    fill: #D2E3FC;\n",
              "  }\n",
              "\n",
              "  [theme=dark] .colab-df-quickchart:hover {\n",
              "    background-color: #434B5C;\n",
              "    box-shadow: 0px 1px 3px 1px rgba(0, 0, 0, 0.15);\n",
              "    filter: drop-shadow(0px 1px 2px rgba(0, 0, 0, 0.3));\n",
              "    fill: #FFFFFF;\n",
              "  }\n",
              "</style>\n",
              "\n",
              "    <script>\n",
              "      async function quickchart(key) {\n",
              "        const containerElement = document.querySelector('#' + key);\n",
              "        const charts = await google.colab.kernel.invokeFunction(\n",
              "            'suggestCharts', [key], {});\n",
              "      }\n",
              "    </script>\n",
              "\n",
              "      <script>\n",
              "\n",
              "function displayQuickchartButton(domScope) {\n",
              "  let quickchartButtonEl =\n",
              "    domScope.querySelector('#df-c4f01808-de15-448a-8afa-29a9d3afc42e button.colab-df-quickchart');\n",
              "  quickchartButtonEl.style.display =\n",
              "    google.colab.kernel.accessAllowed ? 'block' : 'none';\n",
              "}\n",
              "\n",
              "        displayQuickchartButton(document);\n",
              "      </script>\n",
              "      <style>\n",
              "    .colab-df-container {\n",
              "      display:flex;\n",
              "      flex-wrap:wrap;\n",
              "      gap: 12px;\n",
              "    }\n",
              "\n",
              "    .colab-df-convert {\n",
              "      background-color: #E8F0FE;\n",
              "      border: none;\n",
              "      border-radius: 50%;\n",
              "      cursor: pointer;\n",
              "      display: none;\n",
              "      fill: #1967D2;\n",
              "      height: 32px;\n",
              "      padding: 0 0 0 0;\n",
              "      width: 32px;\n",
              "    }\n",
              "\n",
              "    .colab-df-convert:hover {\n",
              "      background-color: #E2EBFA;\n",
              "      box-shadow: 0px 1px 2px rgba(60, 64, 67, 0.3), 0px 1px 3px 1px rgba(60, 64, 67, 0.15);\n",
              "      fill: #174EA6;\n",
              "    }\n",
              "\n",
              "    [theme=dark] .colab-df-convert {\n",
              "      background-color: #3B4455;\n",
              "      fill: #D2E3FC;\n",
              "    }\n",
              "\n",
              "    [theme=dark] .colab-df-convert:hover {\n",
              "      background-color: #434B5C;\n",
              "      box-shadow: 0px 1px 3px 1px rgba(0, 0, 0, 0.15);\n",
              "      filter: drop-shadow(0px 1px 2px rgba(0, 0, 0, 0.3));\n",
              "      fill: #FFFFFF;\n",
              "    }\n",
              "  </style>\n",
              "\n",
              "      <script>\n",
              "        const buttonEl =\n",
              "          document.querySelector('#df-34856625-2427-4bd8-a363-48bba69d9bb7 button.colab-df-convert');\n",
              "        buttonEl.style.display =\n",
              "          google.colab.kernel.accessAllowed ? 'block' : 'none';\n",
              "\n",
              "        async function convertToInteractive(key) {\n",
              "          const element = document.querySelector('#df-34856625-2427-4bd8-a363-48bba69d9bb7');\n",
              "          const dataTable =\n",
              "            await google.colab.kernel.invokeFunction('convertToInteractive',\n",
              "                                                     [key], {});\n",
              "          if (!dataTable) return;\n",
              "\n",
              "          const docLinkHtml = 'Like what you see? Visit the ' +\n",
              "            '<a target=\"_blank\" href=https://colab.research.google.com/notebooks/data_table.ipynb>data table notebook</a>'\n",
              "            + ' to learn more about interactive tables.';\n",
              "          element.innerHTML = '';\n",
              "          dataTable['output_type'] = 'display_data';\n",
              "          await google.colab.output.renderOutput(dataTable, element);\n",
              "          const docLink = document.createElement('div');\n",
              "          docLink.innerHTML = docLinkHtml;\n",
              "          element.appendChild(docLink);\n",
              "        }\n",
              "      </script>\n",
              "    </div>\n",
              "  </div>\n"
            ]
          },
          "metadata": {},
          "execution_count": 2382
        }
      ]
    },
    {
      "cell_type": "code",
      "source": [
        "ExtraMonsters.info()"
      ],
      "metadata": {
        "colab": {
          "base_uri": "https://localhost:8080/"
        },
        "id": "-_j3ldITs3U_",
        "outputId": "b0ebf4d3-34a6-46d2-9434-2cc3a89023a0"
      },
      "execution_count": null,
      "outputs": [
        {
          "output_type": "stream",
          "name": "stdout",
          "text": [
            "<class 'pandas.core.frame.DataFrame'>\n",
            "Int64Index: 2065 entries, 31 to 12642\n",
            "Data columns (total 13 columns):\n",
            " #   Column       Non-Null Count  Dtype  \n",
            "---  ------       --------------  -----  \n",
            " 0   id           2065 non-null   int64  \n",
            " 1   name         2065 non-null   object \n",
            " 2   type         2065 non-null   object \n",
            " 3   desc         2065 non-null   object \n",
            " 4   atk          2065 non-null   float64\n",
            " 5   def          1684 non-null   float64\n",
            " 6   level        1684 non-null   float64\n",
            " 7   race         2065 non-null   object \n",
            " 8   attribute    2065 non-null   object \n",
            " 9   scale        333 non-null    float64\n",
            " 10  archetype    1488 non-null   object \n",
            " 11  linkval      381 non-null    float64\n",
            " 12  linkmarkers  381 non-null    object \n",
            "dtypes: float64(5), int64(1), object(7)\n",
            "memory usage: 225.9+ KB\n"
          ]
        }
      ]
    },
    {
      "cell_type": "code",
      "source": [
        "ExtraMonsters.fillna('', inplace=True)"
      ],
      "metadata": {
        "colab": {
          "base_uri": "https://localhost:8080/"
        },
        "id": "M1C1463jW4mz",
        "outputId": "84bbe1bc-8560-4872-a681-59ad53fb115e"
      },
      "execution_count": null,
      "outputs": [
        {
          "output_type": "stream",
          "name": "stderr",
          "text": [
            "<ipython-input-2384-5273e2e98e0c>:1: SettingWithCopyWarning: \n",
            "A value is trying to be set on a copy of a slice from a DataFrame\n",
            "\n",
            "See the caveats in the documentation: https://pandas.pydata.org/pandas-docs/stable/user_guide/indexing.html#returning-a-view-versus-a-copy\n",
            "  ExtraMonsters.fillna('', inplace=True)\n"
          ]
        }
      ]
    },
    {
      "cell_type": "markdown",
      "source": [
        "###: Separação para Treino e Teste"
      ],
      "metadata": {
        "id": "Lf-X4P91-kqb"
      }
    },
    {
      "cell_type": "code",
      "source": [
        "# Separamos em uma variavel a coluna que carrega a informaão do tipo da Carta e utlizaremos essa variavel para a construção do y\n",
        "Extras = ExtraMonsters.iloc[:,ExtraMonsters.columns == 'type']\n",
        "ExtrasArray = Extras.values.flatten()\n",
        "ExtrasArray"
      ],
      "metadata": {
        "colab": {
          "base_uri": "https://localhost:8080/"
        },
        "id": "PPgJ0QHPstlT",
        "outputId": "d42510e7-c0dd-4ded-da6f-045ddb4ceba5"
      },
      "execution_count": null,
      "outputs": [
        {
          "output_type": "execute_result",
          "data": {
            "text/plain": [
              "array(['Fusion Monster', 'Fusion Monster', 'Pendulum Effect Monster', ...,\n",
              "       'XYZ Monster', 'Synchro Monster', 'XYZ Monster'], dtype=object)"
            ]
          },
          "metadata": {},
          "execution_count": 2385
        }
      ]
    },
    {
      "cell_type": "code",
      "source": [
        "# Construção do X usando as colunas de nome, arquetipo e descrição, estas contem informações suficientes para uma previsão de um tipo\n",
        "enc = OrdinalEncoder()\n",
        "X = ExtraMonsters[['name', 'archetype', 'desc']]\n",
        "X = enc.fit_transform(X)\n",
        "X.shape"
      ],
      "metadata": {
        "colab": {
          "base_uri": "https://localhost:8080/"
        },
        "id": "_0ki2BgEuva_",
        "outputId": "ed4a0941-5003-428e-b901-48fd80e19efd"
      },
      "execution_count": null,
      "outputs": [
        {
          "output_type": "execute_result",
          "data": {
            "text/plain": [
              "(2065, 3)"
            ]
          },
          "metadata": {},
          "execution_count": 2386
        }
      ]
    },
    {
      "cell_type": "code",
      "source": [
        "# Propriamente criando o y\n",
        "le = LabelEncoder()\n",
        "y = le.fit_transform(ExtrasArray)\n",
        "y.shape"
      ],
      "metadata": {
        "colab": {
          "base_uri": "https://localhost:8080/"
        },
        "id": "X5RkirCVuvUh",
        "outputId": "b5531301-44f1-49aa-a06f-4375e282edbe"
      },
      "execution_count": null,
      "outputs": [
        {
          "output_type": "execute_result",
          "data": {
            "text/plain": [
              "(2065,)"
            ]
          },
          "metadata": {},
          "execution_count": 2387
        }
      ]
    },
    {
      "cell_type": "code",
      "source": [
        "le.classes_"
      ],
      "metadata": {
        "colab": {
          "base_uri": "https://localhost:8080/"
        },
        "id": "G4gfmLXkdBln",
        "outputId": "6a14d168-7bf0-4abc-872b-cddfe3cf03a8"
      },
      "execution_count": null,
      "outputs": [
        {
          "output_type": "execute_result",
          "data": {
            "text/plain": [
              "array(['Fusion Monster', 'Link Monster', 'Pendulum Effect Fusion Monster',\n",
              "       'Pendulum Effect Monster', 'Pendulum Effect Ritual Monster',\n",
              "       'Pendulum Flip Effect Monster', 'Pendulum Normal Monster',\n",
              "       'Pendulum Tuner Effect Monster', 'Synchro Monster',\n",
              "       'Synchro Pendulum Effect Monster', 'Synchro Tuner Monster',\n",
              "       'XYZ Monster', 'XYZ Pendulum Effect Monster'], dtype=object)"
            ]
          },
          "metadata": {},
          "execution_count": 2388
        }
      ]
    },
    {
      "cell_type": "code",
      "source": [
        "X_train, X_test, y_train, y_test = train_test_split(X, y, test_size=0.3, random_state=0) # SEED"
      ],
      "metadata": {
        "id": "Tp5zMQ2PsWvl"
      },
      "execution_count": null,
      "outputs": []
    },
    {
      "cell_type": "markdown",
      "source": [
        "### Decision Tree"
      ],
      "metadata": {
        "id": "JbdlHZwAx3zD"
      }
    },
    {
      "cell_type": "code",
      "source": [
        "Extras_tree = DecisionTreeClassifier(random_state=0,  criterion='entropy',  max_depth=30,min_samples_leaf=2)# Utilizamos o resultado encontrado do Grid Search e comentamos o bloco para ganho de memoria e tempo!\n",
        "Extras_tree = Extras_tree.fit(X_train, y_train)"
      ],
      "metadata": {
        "id": "thHBP4ZMotAo"
      },
      "execution_count": null,
      "outputs": []
    },
    {
      "cell_type": "code",
      "source": [
        "#n_iter_search = 100 # numero de iteracoes/execucoes aleatórias do algoritmo\n",
        "# specify parameters and distributions to sample from\n",
        "#tree_params = {\"max_depth\": np.arange(0, 31),\n",
        "#               \"criterion\": [\"entropy\", \"log_loss\"],\n",
        "#               \"min_samples_split\": np.arange(0, 5),\n",
        "#               \"min_samples_leaf\": np.arange(0, 5),\n",
        "#               }\n",
        "#tree_params\n",
        "#grid_search = GridSearchCV(Extras_tree,\n",
        "                          # cv=5,\n",
        "                          # param_grid=tree_params)\n",
        "\n",
        "#start = time()\n",
        "#grid_search.fit(X_train, y_train)\n",
        "\n",
        "#print(\"GridSerachCV took %.2f seconds for %d candidates\"\n",
        "#      \" parameter settings \\n\\n\" % ((time() - start), n_iter_search))\n",
        "#Extras_tree = grid_search.best_estimator_"
      ],
      "metadata": {
        "id": "ocAshSe4ddgb"
      },
      "execution_count": null,
      "outputs": []
    },
    {
      "cell_type": "code",
      "source": [
        "Extras_tree.predict(X_train)"
      ],
      "metadata": {
        "colab": {
          "base_uri": "https://localhost:8080/"
        },
        "id": "Tt7mADoyos9v",
        "outputId": "9087cddd-1a8f-46c0-b5ef-cf89dfd5ade8"
      },
      "execution_count": null,
      "outputs": [
        {
          "output_type": "execute_result",
          "data": {
            "text/plain": [
              "array([ 3, 11,  1, ..., 11, 11, 11])"
            ]
          },
          "metadata": {},
          "execution_count": 2392
        }
      ]
    },
    {
      "cell_type": "code",
      "source": [
        "y_train"
      ],
      "metadata": {
        "colab": {
          "base_uri": "https://localhost:8080/"
        },
        "id": "lHFyUUmdos7B",
        "outputId": "3f106b37-b859-4de2-d403-fc6729d500b9"
      },
      "execution_count": null,
      "outputs": [
        {
          "output_type": "execute_result",
          "data": {
            "text/plain": [
              "array([ 3, 11,  1, ..., 11, 11, 11])"
            ]
          },
          "metadata": {},
          "execution_count": 2393
        }
      ]
    },
    {
      "cell_type": "code",
      "source": [
        "print(\"Acurácia (base de treinamento):\", Extras_tree.score(X_train, y_train))"
      ],
      "metadata": {
        "colab": {
          "base_uri": "https://localhost:8080/"
        },
        "id": "X-QGd6yzwHtK",
        "outputId": "76ca3dbb-f401-4a4b-9af7-ad00f8b7cefa"
      },
      "execution_count": null,
      "outputs": [
        {
          "output_type": "stream",
          "name": "stdout",
          "text": [
            "Acurácia (base de treinamento): 0.9487889273356401\n"
          ]
        }
      ]
    },
    {
      "cell_type": "code",
      "source": [
        "y_pred = Extras_tree.predict(X_test)"
      ],
      "metadata": {
        "id": "zgBo-b3RwHqy"
      },
      "execution_count": null,
      "outputs": []
    },
    {
      "cell_type": "code",
      "source": [
        "print(\"Acurácia de previsão:\", accuracy_score(y_test, y_pred))"
      ],
      "metadata": {
        "colab": {
          "base_uri": "https://localhost:8080/"
        },
        "id": "-8GypTMUwOR1",
        "outputId": "f9f63d14-5a95-4616-e708-61166ad87677"
      },
      "execution_count": null,
      "outputs": [
        {
          "output_type": "stream",
          "name": "stdout",
          "text": [
            "Acurácia de previsão: 0.817741935483871\n"
          ]
        }
      ]
    },
    {
      "cell_type": "code",
      "source": [
        "cnf_matrix = confusion_matrix(y_test, y_pred)\n",
        "print(cnf_matrix)"
      ],
      "metadata": {
        "colab": {
          "base_uri": "https://localhost:8080/"
        },
        "id": "2qLRQYIKwOPg",
        "outputId": "c29e2f77-dc23-4227-dacb-ba04e2fc93ad"
      },
      "execution_count": null,
      "outputs": [
        {
          "output_type": "stream",
          "name": "stdout",
          "text": [
            "[[107  13   0   0   0   0   0  10   0   2   0]\n",
            " [ 20  89   0   0   0   0   0   1   0   4   0]\n",
            " [  0   0   2   1   0   0   0   0   0   0   0]\n",
            " [  0   0   5  67   0   1   0   0   0   0   2]\n",
            " [  0   0   1   0   0   0   0   0   0   0   0]\n",
            " [  1   0   0   7   0   6   0   0   0   0   0]\n",
            " [  0   0   0   2   0   1   0   0   0   0   0]\n",
            " [ 15   1   0   0   0   0   0 101   4   0   0]\n",
            " [  0   0   0   0   0   0   0  10   1   0   0]\n",
            " [  3   4   0   0   0   0   0   0   0 134   0]\n",
            " [  0   0   2   3   0   0   0   0   0   0   0]]\n"
          ]
        }
      ]
    },
    {
      "cell_type": "markdown",
      "source": [
        "### Naive Bayes"
      ],
      "metadata": {
        "id": "yG2B2RAsrPJE"
      }
    },
    {
      "cell_type": "code",
      "source": [
        "# Aqui selecionamos alguns dos Modelos De Naives Bayes e os subtemos aos mesmo X e Y ao qual a arvore de decisão foi submetida\n",
        "gaussianNB = GaussianNB()\n",
        "multiNB = MultinomialNB()\n",
        "compNB = ComplementNB()\n",
        "berNB = BernoulliNB()\n",
        "catNB = CategoricalNB()\n",
        "\n",
        "nb_model = gaussianNB.fit(X_train, y_train)\n",
        "print(\"Acurácia do modelo no treino: GaussianNB\", round(nb_model.score(X_train, y_train),2)*100)\n",
        "#\n",
        "nb_model = multiNB.fit(X_train, y_train)\n",
        "print(\"Acurácia do modelo no treino: MultinomialNB\", round(nb_model.score(X_train, y_train),2)*100)\n",
        "#\n",
        "nb_model = compNB.fit(X_train, y_train)\n",
        "print(\"Acurácia do modelo no treino: ComplementNB\", round(nb_model.score(X_train, y_train),2)*100)\n",
        "#\n",
        "nb_model = berNB.fit(X_train, y_train)\n",
        "print(\"Acurácia do modelo no treino: BernoulliNB\", round(nb_model.score(X_train, y_train),2)*100)"
      ],
      "metadata": {
        "colab": {
          "base_uri": "https://localhost:8080/"
        },
        "id": "csmxsMrV56Qt",
        "outputId": "e8bad8bf-0282-439d-f389-3c8dd107d013"
      },
      "execution_count": null,
      "outputs": [
        {
          "output_type": "stream",
          "name": "stdout",
          "text": [
            "Acurácia do modelo no treino: GaussianNB 65.0\n",
            "Acurácia do modelo no treino: MultinomialNB 21.0\n",
            "Acurácia do modelo no treino: ComplementNB 27.0\n",
            "Acurácia do modelo no treino: BernoulliNB 25.0\n"
          ]
        }
      ]
    },
    {
      "cell_type": "code",
      "source": [
        "ansgau = gaussianNB.score(X_test, y_test)\n",
        "print(\"Acurácia do modelo no teste: GaussianNB\", round(ansgau,2)*100)\n",
        "#\n",
        "ansmult = multiNB.score(X_test, y_test)\n",
        "print(\"Acurácia do modelo no teste: MultinomialNB\", round(ansmult,2)*100)\n",
        "#\n",
        "anscomp = compNB.score(X_test, y_test)\n",
        "print(\"Acurácia do modelo no teste: ComplementNB\", round(anscomp,2)*100)\n",
        "#\n",
        "ansber = berNB.score(X_test, y_test)\n",
        "print(\"Acurácia do modelo no teste: BernoulliNB\", round(ansber,2)*100)"
      ],
      "metadata": {
        "colab": {
          "base_uri": "https://localhost:8080/"
        },
        "id": "HmDp0yyQ56OR",
        "outputId": "c52f9446-7aac-4087-bd84-f99e08865722"
      },
      "execution_count": null,
      "outputs": [
        {
          "output_type": "stream",
          "name": "stdout",
          "text": [
            "Acurácia do modelo no teste: GaussianNB 66.0\n",
            "Acurácia do modelo no teste: MultinomialNB 25.0\n",
            "Acurácia do modelo no teste: ComplementNB 28.000000000000004\n",
            "Acurácia do modelo no teste: BernoulliNB 26.0\n"
          ]
        }
      ]
    },
    {
      "cell_type": "code",
      "source": [
        "y_pred = gaussianNB.predict(X_test)"
      ],
      "metadata": {
        "id": "w7Tm3_lX56Lz"
      },
      "execution_count": null,
      "outputs": []
    },
    {
      "cell_type": "code",
      "source": [
        "(y_test != y_pred).sum()"
      ],
      "metadata": {
        "colab": {
          "base_uri": "https://localhost:8080/"
        },
        "id": "lTZPUVgf6BsW",
        "outputId": "0a9def63-2987-4915-baee-63f0a5bccca0"
      },
      "execution_count": null,
      "outputs": [
        {
          "output_type": "execute_result",
          "data": {
            "text/plain": [
              "208"
            ]
          },
          "metadata": {},
          "execution_count": 2401
        }
      ]
    },
    {
      "cell_type": "code",
      "source": [
        "print(\"Número de erros de classificação MultinomialNB  {0} de {1}\"\n",
        "      .format((y_test != y_pred).sum(), len(y_pred)))"
      ],
      "metadata": {
        "colab": {
          "base_uri": "https://localhost:8080/"
        },
        "id": "CGo7ub3I6EZK",
        "outputId": "0cca88e8-e8a0-4554-b9c8-4a38c2658898"
      },
      "execution_count": null,
      "outputs": [
        {
          "output_type": "stream",
          "name": "stdout",
          "text": [
            "Número de erros de classificação MultinomialNB  208 de 620\n"
          ]
        }
      ]
    },
    {
      "cell_type": "markdown",
      "source": [
        "### Considerações Pós Treino e Teste:"
      ],
      "metadata": {
        "id": "7Vn1vc4BpGum"
      }
    },
    {
      "cell_type": "markdown",
      "source": [
        "> Comparados os desempenhos dos Modelos treinados acima, o Grupo julga a árvore de decisão como o modelo mais satisfátorio para o desenvolvimento da proposta.\n",
        "\n"
      ],
      "metadata": {
        "id": "oXVmDy0rpGsG"
      }
    },
    {
      "cell_type": "markdown",
      "source": [
        "### Validação\n",
        "\n",
        "Nesta parte final, o objetivo foi verificar a predição do algoritmo utilizado para diversos datasets.\n",
        "Os datasets utilizados, as cartas residentes, na sua maioria não estão presentes no modelo de treinamento e teste. Portanto, a expectativa é observar o comportamento do modelo a partir de seus erros.\n",
        "\n",
        "Os datasets de validação foram divididos da seguinte forma:\n",
        "* Total de 300 cartas.\n",
        "* Apenas contém tipo monstros em geral.\n",
        "* O dataset de ***normal monster*** contém apenas monstros do tipo Normal e Fusão.\n",
        "* O restante dos datasets foram mixados entre diversos tipos de monstros do tipo efeito e suas variantes.\n",
        "\n",
        "Resultados preliminares:\n",
        "* Foi observado uma generalização do modelo para todos resultados.\n",
        "* Os resultados apresentaram acertos, porém apresenta as respostas com apenas um tipo."
      ],
      "metadata": {
        "id": "X9A4q35aky-a"
      }
    },
    {
      "cell_type": "code",
      "source": [
        "random.fillna('', inplace=True)"
      ],
      "metadata": {
        "id": "MovJphwa2zen"
      },
      "execution_count": null,
      "outputs": []
    },
    {
      "cell_type": "code",
      "source": [
        "random[random['name'] == 'Dark Rebellion Xyz Dragon']"
      ],
      "metadata": {
        "colab": {
          "base_uri": "https://localhost:8080/"
        },
        "id": "aEtDtm1Ole--",
        "outputId": "b7f87af0-3d4b-4f9f-e66e-cb746342ab65"
      },
      "execution_count": null,
      "outputs": [
        {
          "output_type": "execute_result",
          "data": {
            "text/plain": [
              "     Unnamed: 0        id                       name         type  \\\n",
              "124        2531  16195942  Dark Rebellion Xyz Dragon  XYZ Monster   \n",
              "\n",
              "                                                  desc     atk     def level  \\\n",
              "124  2 Level 4 monsters\\r\\nYou can detach 2 materia...  2500.0  2000.0   4.0   \n",
              "\n",
              "       race attribute scale archetype linkval linkmarkers  \n",
              "124  Dragon      DARK                                      "
            ],
            "text/html": [
              "\n",
              "\n",
              "  <div id=\"df-0e6d2249-0c72-4246-bdeb-ec439179f557\">\n",
              "    <div class=\"colab-df-container\">\n",
              "      <div>\n",
              "<style scoped>\n",
              "    .dataframe tbody tr th:only-of-type {\n",
              "        vertical-align: middle;\n",
              "    }\n",
              "\n",
              "    .dataframe tbody tr th {\n",
              "        vertical-align: top;\n",
              "    }\n",
              "\n",
              "    .dataframe thead th {\n",
              "        text-align: right;\n",
              "    }\n",
              "</style>\n",
              "<table border=\"1\" class=\"dataframe\">\n",
              "  <thead>\n",
              "    <tr style=\"text-align: right;\">\n",
              "      <th></th>\n",
              "      <th>Unnamed: 0</th>\n",
              "      <th>id</th>\n",
              "      <th>name</th>\n",
              "      <th>type</th>\n",
              "      <th>desc</th>\n",
              "      <th>atk</th>\n",
              "      <th>def</th>\n",
              "      <th>level</th>\n",
              "      <th>race</th>\n",
              "      <th>attribute</th>\n",
              "      <th>scale</th>\n",
              "      <th>archetype</th>\n",
              "      <th>linkval</th>\n",
              "      <th>linkmarkers</th>\n",
              "    </tr>\n",
              "  </thead>\n",
              "  <tbody>\n",
              "    <tr>\n",
              "      <th>124</th>\n",
              "      <td>2531</td>\n",
              "      <td>16195942</td>\n",
              "      <td>Dark Rebellion Xyz Dragon</td>\n",
              "      <td>XYZ Monster</td>\n",
              "      <td>2 Level 4 monsters\\r\\nYou can detach 2 materia...</td>\n",
              "      <td>2500.0</td>\n",
              "      <td>2000.0</td>\n",
              "      <td>4.0</td>\n",
              "      <td>Dragon</td>\n",
              "      <td>DARK</td>\n",
              "      <td></td>\n",
              "      <td></td>\n",
              "      <td></td>\n",
              "      <td></td>\n",
              "    </tr>\n",
              "  </tbody>\n",
              "</table>\n",
              "</div>\n",
              "      <button class=\"colab-df-convert\" onclick=\"convertToInteractive('df-0e6d2249-0c72-4246-bdeb-ec439179f557')\"\n",
              "              title=\"Convert this dataframe to an interactive table.\"\n",
              "              style=\"display:none;\">\n",
              "\n",
              "  <svg xmlns=\"http://www.w3.org/2000/svg\" height=\"24px\"viewBox=\"0 0 24 24\"\n",
              "       width=\"24px\">\n",
              "    <path d=\"M0 0h24v24H0V0z\" fill=\"none\"/>\n",
              "    <path d=\"M18.56 5.44l.94 2.06.94-2.06 2.06-.94-2.06-.94-.94-2.06-.94 2.06-2.06.94zm-11 1L8.5 8.5l.94-2.06 2.06-.94-2.06-.94L8.5 2.5l-.94 2.06-2.06.94zm10 10l.94 2.06.94-2.06 2.06-.94-2.06-.94-.94-2.06-.94 2.06-2.06.94z\"/><path d=\"M17.41 7.96l-1.37-1.37c-.4-.4-.92-.59-1.43-.59-.52 0-1.04.2-1.43.59L10.3 9.45l-7.72 7.72c-.78.78-.78 2.05 0 2.83L4 21.41c.39.39.9.59 1.41.59.51 0 1.02-.2 1.41-.59l7.78-7.78 2.81-2.81c.8-.78.8-2.07 0-2.86zM5.41 20L4 18.59l7.72-7.72 1.47 1.35L5.41 20z\"/>\n",
              "  </svg>\n",
              "      </button>\n",
              "\n",
              "\n",
              "\n",
              "    <div id=\"df-840de1a2-188c-44c0-b44b-0200ee4e5c09\">\n",
              "      <button class=\"colab-df-quickchart\" onclick=\"quickchart('df-840de1a2-188c-44c0-b44b-0200ee4e5c09')\"\n",
              "              title=\"Suggest charts.\"\n",
              "              style=\"display:none;\">\n",
              "\n",
              "<svg xmlns=\"http://www.w3.org/2000/svg\" height=\"24px\"viewBox=\"0 0 24 24\"\n",
              "     width=\"24px\">\n",
              "    <g>\n",
              "        <path d=\"M19 3H5c-1.1 0-2 .9-2 2v14c0 1.1.9 2 2 2h14c1.1 0 2-.9 2-2V5c0-1.1-.9-2-2-2zM9 17H7v-7h2v7zm4 0h-2V7h2v10zm4 0h-2v-4h2v4z\"/>\n",
              "    </g>\n",
              "</svg>\n",
              "      </button>\n",
              "    </div>\n",
              "\n",
              "<style>\n",
              "  .colab-df-quickchart {\n",
              "    background-color: #E8F0FE;\n",
              "    border: none;\n",
              "    border-radius: 50%;\n",
              "    cursor: pointer;\n",
              "    display: none;\n",
              "    fill: #1967D2;\n",
              "    height: 32px;\n",
              "    padding: 0 0 0 0;\n",
              "    width: 32px;\n",
              "  }\n",
              "\n",
              "  .colab-df-quickchart:hover {\n",
              "    background-color: #E2EBFA;\n",
              "    box-shadow: 0px 1px 2px rgba(60, 64, 67, 0.3), 0px 1px 3px 1px rgba(60, 64, 67, 0.15);\n",
              "    fill: #174EA6;\n",
              "  }\n",
              "\n",
              "  [theme=dark] .colab-df-quickchart {\n",
              "    background-color: #3B4455;\n",
              "    fill: #D2E3FC;\n",
              "  }\n",
              "\n",
              "  [theme=dark] .colab-df-quickchart:hover {\n",
              "    background-color: #434B5C;\n",
              "    box-shadow: 0px 1px 3px 1px rgba(0, 0, 0, 0.15);\n",
              "    filter: drop-shadow(0px 1px 2px rgba(0, 0, 0, 0.3));\n",
              "    fill: #FFFFFF;\n",
              "  }\n",
              "</style>\n",
              "\n",
              "    <script>\n",
              "      async function quickchart(key) {\n",
              "        const containerElement = document.querySelector('#' + key);\n",
              "        const charts = await google.colab.kernel.invokeFunction(\n",
              "            'suggestCharts', [key], {});\n",
              "      }\n",
              "    </script>\n",
              "\n",
              "      <script>\n",
              "\n",
              "function displayQuickchartButton(domScope) {\n",
              "  let quickchartButtonEl =\n",
              "    domScope.querySelector('#df-840de1a2-188c-44c0-b44b-0200ee4e5c09 button.colab-df-quickchart');\n",
              "  quickchartButtonEl.style.display =\n",
              "    google.colab.kernel.accessAllowed ? 'block' : 'none';\n",
              "}\n",
              "\n",
              "        displayQuickchartButton(document);\n",
              "      </script>\n",
              "      <style>\n",
              "    .colab-df-container {\n",
              "      display:flex;\n",
              "      flex-wrap:wrap;\n",
              "      gap: 12px;\n",
              "    }\n",
              "\n",
              "    .colab-df-convert {\n",
              "      background-color: #E8F0FE;\n",
              "      border: none;\n",
              "      border-radius: 50%;\n",
              "      cursor: pointer;\n",
              "      display: none;\n",
              "      fill: #1967D2;\n",
              "      height: 32px;\n",
              "      padding: 0 0 0 0;\n",
              "      width: 32px;\n",
              "    }\n",
              "\n",
              "    .colab-df-convert:hover {\n",
              "      background-color: #E2EBFA;\n",
              "      box-shadow: 0px 1px 2px rgba(60, 64, 67, 0.3), 0px 1px 3px 1px rgba(60, 64, 67, 0.15);\n",
              "      fill: #174EA6;\n",
              "    }\n",
              "\n",
              "    [theme=dark] .colab-df-convert {\n",
              "      background-color: #3B4455;\n",
              "      fill: #D2E3FC;\n",
              "    }\n",
              "\n",
              "    [theme=dark] .colab-df-convert:hover {\n",
              "      background-color: #434B5C;\n",
              "      box-shadow: 0px 1px 3px 1px rgba(0, 0, 0, 0.15);\n",
              "      filter: drop-shadow(0px 1px 2px rgba(0, 0, 0, 0.3));\n",
              "      fill: #FFFFFF;\n",
              "    }\n",
              "  </style>\n",
              "\n",
              "      <script>\n",
              "        const buttonEl =\n",
              "          document.querySelector('#df-0e6d2249-0c72-4246-bdeb-ec439179f557 button.colab-df-convert');\n",
              "        buttonEl.style.display =\n",
              "          google.colab.kernel.accessAllowed ? 'block' : 'none';\n",
              "\n",
              "        async function convertToInteractive(key) {\n",
              "          const element = document.querySelector('#df-0e6d2249-0c72-4246-bdeb-ec439179f557');\n",
              "          const dataTable =\n",
              "            await google.colab.kernel.invokeFunction('convertToInteractive',\n",
              "                                                     [key], {});\n",
              "          if (!dataTable) return;\n",
              "\n",
              "          const docLinkHtml = 'Like what you see? Visit the ' +\n",
              "            '<a target=\"_blank\" href=https://colab.research.google.com/notebooks/data_table.ipynb>data table notebook</a>'\n",
              "            + ' to learn more about interactive tables.';\n",
              "          element.innerHTML = '';\n",
              "          dataTable['output_type'] = 'display_data';\n",
              "          await google.colab.output.renderOutput(dataTable, element);\n",
              "          const docLink = document.createElement('div');\n",
              "          docLink.innerHTML = docLinkHtml;\n",
              "          element.appendChild(docLink);\n",
              "        }\n",
              "      </script>\n",
              "    </div>\n",
              "  </div>\n"
            ]
          },
          "metadata": {},
          "execution_count": 2404
        }
      ]
    },
    {
      "cell_type": "code",
      "source": [
        "randomeff.fillna('', inplace=True)"
      ],
      "metadata": {
        "id": "KOS5lJ5_7afv"
      },
      "execution_count": null,
      "outputs": []
    },
    {
      "cell_type": "code",
      "source": [
        "randomeff[randomeff['name'] == 'Crystal Clear Wing Synchro Dragon']"
      ],
      "metadata": {
        "colab": {
          "base_uri": "https://localhost:8080/"
        },
        "id": "QVPppijX7adc",
        "outputId": "305264c1-0757-45d3-d266-810da42d07b1"
      },
      "execution_count": null,
      "outputs": [
        {
          "output_type": "execute_result",
          "data": {
            "text/plain": [
              "    Unnamed: 0        id                               name             type  \\\n",
              "51        2077  59765225  Crystal Clear Wing Synchro Dragon  Synchro Monster   \n",
              "\n",
              "                                                 desc     atk     def level  \\\n",
              "51  1 Tuner Synchro Monster + 1 non-Tuner \"Clear W...  3000.0  2500.0  10.0   \n",
              "\n",
              "      race attribute scale   archetype linkval linkmarkers  \n",
              "51  Dragon      WIND        Clear Wing                      "
            ],
            "text/html": [
              "\n",
              "\n",
              "  <div id=\"df-0df115f4-853c-48cf-a491-c3ae14e15d9b\">\n",
              "    <div class=\"colab-df-container\">\n",
              "      <div>\n",
              "<style scoped>\n",
              "    .dataframe tbody tr th:only-of-type {\n",
              "        vertical-align: middle;\n",
              "    }\n",
              "\n",
              "    .dataframe tbody tr th {\n",
              "        vertical-align: top;\n",
              "    }\n",
              "\n",
              "    .dataframe thead th {\n",
              "        text-align: right;\n",
              "    }\n",
              "</style>\n",
              "<table border=\"1\" class=\"dataframe\">\n",
              "  <thead>\n",
              "    <tr style=\"text-align: right;\">\n",
              "      <th></th>\n",
              "      <th>Unnamed: 0</th>\n",
              "      <th>id</th>\n",
              "      <th>name</th>\n",
              "      <th>type</th>\n",
              "      <th>desc</th>\n",
              "      <th>atk</th>\n",
              "      <th>def</th>\n",
              "      <th>level</th>\n",
              "      <th>race</th>\n",
              "      <th>attribute</th>\n",
              "      <th>scale</th>\n",
              "      <th>archetype</th>\n",
              "      <th>linkval</th>\n",
              "      <th>linkmarkers</th>\n",
              "    </tr>\n",
              "  </thead>\n",
              "  <tbody>\n",
              "    <tr>\n",
              "      <th>51</th>\n",
              "      <td>2077</td>\n",
              "      <td>59765225</td>\n",
              "      <td>Crystal Clear Wing Synchro Dragon</td>\n",
              "      <td>Synchro Monster</td>\n",
              "      <td>1 Tuner Synchro Monster + 1 non-Tuner \"Clear W...</td>\n",
              "      <td>3000.0</td>\n",
              "      <td>2500.0</td>\n",
              "      <td>10.0</td>\n",
              "      <td>Dragon</td>\n",
              "      <td>WIND</td>\n",
              "      <td></td>\n",
              "      <td>Clear Wing</td>\n",
              "      <td></td>\n",
              "      <td></td>\n",
              "    </tr>\n",
              "  </tbody>\n",
              "</table>\n",
              "</div>\n",
              "      <button class=\"colab-df-convert\" onclick=\"convertToInteractive('df-0df115f4-853c-48cf-a491-c3ae14e15d9b')\"\n",
              "              title=\"Convert this dataframe to an interactive table.\"\n",
              "              style=\"display:none;\">\n",
              "\n",
              "  <svg xmlns=\"http://www.w3.org/2000/svg\" height=\"24px\"viewBox=\"0 0 24 24\"\n",
              "       width=\"24px\">\n",
              "    <path d=\"M0 0h24v24H0V0z\" fill=\"none\"/>\n",
              "    <path d=\"M18.56 5.44l.94 2.06.94-2.06 2.06-.94-2.06-.94-.94-2.06-.94 2.06-2.06.94zm-11 1L8.5 8.5l.94-2.06 2.06-.94-2.06-.94L8.5 2.5l-.94 2.06-2.06.94zm10 10l.94 2.06.94-2.06 2.06-.94-2.06-.94-.94-2.06-.94 2.06-2.06.94z\"/><path d=\"M17.41 7.96l-1.37-1.37c-.4-.4-.92-.59-1.43-.59-.52 0-1.04.2-1.43.59L10.3 9.45l-7.72 7.72c-.78.78-.78 2.05 0 2.83L4 21.41c.39.39.9.59 1.41.59.51 0 1.02-.2 1.41-.59l7.78-7.78 2.81-2.81c.8-.78.8-2.07 0-2.86zM5.41 20L4 18.59l7.72-7.72 1.47 1.35L5.41 20z\"/>\n",
              "  </svg>\n",
              "      </button>\n",
              "\n",
              "\n",
              "\n",
              "    <div id=\"df-0e9760c0-5d89-4d79-9711-2b2d49c9fc23\">\n",
              "      <button class=\"colab-df-quickchart\" onclick=\"quickchart('df-0e9760c0-5d89-4d79-9711-2b2d49c9fc23')\"\n",
              "              title=\"Suggest charts.\"\n",
              "              style=\"display:none;\">\n",
              "\n",
              "<svg xmlns=\"http://www.w3.org/2000/svg\" height=\"24px\"viewBox=\"0 0 24 24\"\n",
              "     width=\"24px\">\n",
              "    <g>\n",
              "        <path d=\"M19 3H5c-1.1 0-2 .9-2 2v14c0 1.1.9 2 2 2h14c1.1 0 2-.9 2-2V5c0-1.1-.9-2-2-2zM9 17H7v-7h2v7zm4 0h-2V7h2v10zm4 0h-2v-4h2v4z\"/>\n",
              "    </g>\n",
              "</svg>\n",
              "      </button>\n",
              "    </div>\n",
              "\n",
              "<style>\n",
              "  .colab-df-quickchart {\n",
              "    background-color: #E8F0FE;\n",
              "    border: none;\n",
              "    border-radius: 50%;\n",
              "    cursor: pointer;\n",
              "    display: none;\n",
              "    fill: #1967D2;\n",
              "    height: 32px;\n",
              "    padding: 0 0 0 0;\n",
              "    width: 32px;\n",
              "  }\n",
              "\n",
              "  .colab-df-quickchart:hover {\n",
              "    background-color: #E2EBFA;\n",
              "    box-shadow: 0px 1px 2px rgba(60, 64, 67, 0.3), 0px 1px 3px 1px rgba(60, 64, 67, 0.15);\n",
              "    fill: #174EA6;\n",
              "  }\n",
              "\n",
              "  [theme=dark] .colab-df-quickchart {\n",
              "    background-color: #3B4455;\n",
              "    fill: #D2E3FC;\n",
              "  }\n",
              "\n",
              "  [theme=dark] .colab-df-quickchart:hover {\n",
              "    background-color: #434B5C;\n",
              "    box-shadow: 0px 1px 3px 1px rgba(0, 0, 0, 0.15);\n",
              "    filter: drop-shadow(0px 1px 2px rgba(0, 0, 0, 0.3));\n",
              "    fill: #FFFFFF;\n",
              "  }\n",
              "</style>\n",
              "\n",
              "    <script>\n",
              "      async function quickchart(key) {\n",
              "        const containerElement = document.querySelector('#' + key);\n",
              "        const charts = await google.colab.kernel.invokeFunction(\n",
              "            'suggestCharts', [key], {});\n",
              "      }\n",
              "    </script>\n",
              "\n",
              "      <script>\n",
              "\n",
              "function displayQuickchartButton(domScope) {\n",
              "  let quickchartButtonEl =\n",
              "    domScope.querySelector('#df-0e9760c0-5d89-4d79-9711-2b2d49c9fc23 button.colab-df-quickchart');\n",
              "  quickchartButtonEl.style.display =\n",
              "    google.colab.kernel.accessAllowed ? 'block' : 'none';\n",
              "}\n",
              "\n",
              "        displayQuickchartButton(document);\n",
              "      </script>\n",
              "      <style>\n",
              "    .colab-df-container {\n",
              "      display:flex;\n",
              "      flex-wrap:wrap;\n",
              "      gap: 12px;\n",
              "    }\n",
              "\n",
              "    .colab-df-convert {\n",
              "      background-color: #E8F0FE;\n",
              "      border: none;\n",
              "      border-radius: 50%;\n",
              "      cursor: pointer;\n",
              "      display: none;\n",
              "      fill: #1967D2;\n",
              "      height: 32px;\n",
              "      padding: 0 0 0 0;\n",
              "      width: 32px;\n",
              "    }\n",
              "\n",
              "    .colab-df-convert:hover {\n",
              "      background-color: #E2EBFA;\n",
              "      box-shadow: 0px 1px 2px rgba(60, 64, 67, 0.3), 0px 1px 3px 1px rgba(60, 64, 67, 0.15);\n",
              "      fill: #174EA6;\n",
              "    }\n",
              "\n",
              "    [theme=dark] .colab-df-convert {\n",
              "      background-color: #3B4455;\n",
              "      fill: #D2E3FC;\n",
              "    }\n",
              "\n",
              "    [theme=dark] .colab-df-convert:hover {\n",
              "      background-color: #434B5C;\n",
              "      box-shadow: 0px 1px 3px 1px rgba(0, 0, 0, 0.15);\n",
              "      filter: drop-shadow(0px 1px 2px rgba(0, 0, 0, 0.3));\n",
              "      fill: #FFFFFF;\n",
              "    }\n",
              "  </style>\n",
              "\n",
              "      <script>\n",
              "        const buttonEl =\n",
              "          document.querySelector('#df-0df115f4-853c-48cf-a491-c3ae14e15d9b button.colab-df-convert');\n",
              "        buttonEl.style.display =\n",
              "          google.colab.kernel.accessAllowed ? 'block' : 'none';\n",
              "\n",
              "        async function convertToInteractive(key) {\n",
              "          const element = document.querySelector('#df-0df115f4-853c-48cf-a491-c3ae14e15d9b');\n",
              "          const dataTable =\n",
              "            await google.colab.kernel.invokeFunction('convertToInteractive',\n",
              "                                                     [key], {});\n",
              "          if (!dataTable) return;\n",
              "\n",
              "          const docLinkHtml = 'Like what you see? Visit the ' +\n",
              "            '<a target=\"_blank\" href=https://colab.research.google.com/notebooks/data_table.ipynb>data table notebook</a>'\n",
              "            + ' to learn more about interactive tables.';\n",
              "          element.innerHTML = '';\n",
              "          dataTable['output_type'] = 'display_data';\n",
              "          await google.colab.output.renderOutput(dataTable, element);\n",
              "          const docLink = document.createElement('div');\n",
              "          docLink.innerHTML = docLinkHtml;\n",
              "          element.appendChild(docLink);\n",
              "        }\n",
              "      </script>\n",
              "    </div>\n",
              "  </div>\n"
            ]
          },
          "metadata": {},
          "execution_count": 2406
        }
      ]
    },
    {
      "cell_type": "code",
      "source": [
        "randomnormal.fillna('', inplace=True)"
      ],
      "metadata": {
        "id": "j6mXLb4m_j61"
      },
      "execution_count": null,
      "outputs": []
    },
    {
      "cell_type": "code",
      "source": [
        "randomnormal[randomnormal['name'] == 'Ryu-Ran']"
      ],
      "metadata": {
        "colab": {
          "base_uri": "https://localhost:8080/"
        },
        "id": "owUZM7ls_p5l",
        "outputId": "b818b15c-6408-496c-88b0-f58692166bc1"
      },
      "execution_count": null,
      "outputs": [
        {
          "output_type": "execute_result",
          "data": {
            "text/plain": [
              "    Unnamed: 0       id     name            type  \\\n",
              "44        9359  2964201  Ryu-Ran  Normal Monster   \n",
              "\n",
              "                                                 desc     atk     def  level  \\\n",
              "44  A vicious little dragon sheltered in an egg th...  2200.0  2600.0    7.0   \n",
              "\n",
              "      race attribute scale archetype linkval linkmarkers  \n",
              "44  Dragon      FIRE                                      "
            ],
            "text/html": [
              "\n",
              "\n",
              "  <div id=\"df-9e8f3c27-0c03-4e96-8bec-8814f47e087f\">\n",
              "    <div class=\"colab-df-container\">\n",
              "      <div>\n",
              "<style scoped>\n",
              "    .dataframe tbody tr th:only-of-type {\n",
              "        vertical-align: middle;\n",
              "    }\n",
              "\n",
              "    .dataframe tbody tr th {\n",
              "        vertical-align: top;\n",
              "    }\n",
              "\n",
              "    .dataframe thead th {\n",
              "        text-align: right;\n",
              "    }\n",
              "</style>\n",
              "<table border=\"1\" class=\"dataframe\">\n",
              "  <thead>\n",
              "    <tr style=\"text-align: right;\">\n",
              "      <th></th>\n",
              "      <th>Unnamed: 0</th>\n",
              "      <th>id</th>\n",
              "      <th>name</th>\n",
              "      <th>type</th>\n",
              "      <th>desc</th>\n",
              "      <th>atk</th>\n",
              "      <th>def</th>\n",
              "      <th>level</th>\n",
              "      <th>race</th>\n",
              "      <th>attribute</th>\n",
              "      <th>scale</th>\n",
              "      <th>archetype</th>\n",
              "      <th>linkval</th>\n",
              "      <th>linkmarkers</th>\n",
              "    </tr>\n",
              "  </thead>\n",
              "  <tbody>\n",
              "    <tr>\n",
              "      <th>44</th>\n",
              "      <td>9359</td>\n",
              "      <td>2964201</td>\n",
              "      <td>Ryu-Ran</td>\n",
              "      <td>Normal Monster</td>\n",
              "      <td>A vicious little dragon sheltered in an egg th...</td>\n",
              "      <td>2200.0</td>\n",
              "      <td>2600.0</td>\n",
              "      <td>7.0</td>\n",
              "      <td>Dragon</td>\n",
              "      <td>FIRE</td>\n",
              "      <td></td>\n",
              "      <td></td>\n",
              "      <td></td>\n",
              "      <td></td>\n",
              "    </tr>\n",
              "  </tbody>\n",
              "</table>\n",
              "</div>\n",
              "      <button class=\"colab-df-convert\" onclick=\"convertToInteractive('df-9e8f3c27-0c03-4e96-8bec-8814f47e087f')\"\n",
              "              title=\"Convert this dataframe to an interactive table.\"\n",
              "              style=\"display:none;\">\n",
              "\n",
              "  <svg xmlns=\"http://www.w3.org/2000/svg\" height=\"24px\"viewBox=\"0 0 24 24\"\n",
              "       width=\"24px\">\n",
              "    <path d=\"M0 0h24v24H0V0z\" fill=\"none\"/>\n",
              "    <path d=\"M18.56 5.44l.94 2.06.94-2.06 2.06-.94-2.06-.94-.94-2.06-.94 2.06-2.06.94zm-11 1L8.5 8.5l.94-2.06 2.06-.94-2.06-.94L8.5 2.5l-.94 2.06-2.06.94zm10 10l.94 2.06.94-2.06 2.06-.94-2.06-.94-.94-2.06-.94 2.06-2.06.94z\"/><path d=\"M17.41 7.96l-1.37-1.37c-.4-.4-.92-.59-1.43-.59-.52 0-1.04.2-1.43.59L10.3 9.45l-7.72 7.72c-.78.78-.78 2.05 0 2.83L4 21.41c.39.39.9.59 1.41.59.51 0 1.02-.2 1.41-.59l7.78-7.78 2.81-2.81c.8-.78.8-2.07 0-2.86zM5.41 20L4 18.59l7.72-7.72 1.47 1.35L5.41 20z\"/>\n",
              "  </svg>\n",
              "      </button>\n",
              "\n",
              "\n",
              "\n",
              "    <div id=\"df-04e5c04e-683d-4ca3-82e0-93cf0f36e507\">\n",
              "      <button class=\"colab-df-quickchart\" onclick=\"quickchart('df-04e5c04e-683d-4ca3-82e0-93cf0f36e507')\"\n",
              "              title=\"Suggest charts.\"\n",
              "              style=\"display:none;\">\n",
              "\n",
              "<svg xmlns=\"http://www.w3.org/2000/svg\" height=\"24px\"viewBox=\"0 0 24 24\"\n",
              "     width=\"24px\">\n",
              "    <g>\n",
              "        <path d=\"M19 3H5c-1.1 0-2 .9-2 2v14c0 1.1.9 2 2 2h14c1.1 0 2-.9 2-2V5c0-1.1-.9-2-2-2zM9 17H7v-7h2v7zm4 0h-2V7h2v10zm4 0h-2v-4h2v4z\"/>\n",
              "    </g>\n",
              "</svg>\n",
              "      </button>\n",
              "    </div>\n",
              "\n",
              "<style>\n",
              "  .colab-df-quickchart {\n",
              "    background-color: #E8F0FE;\n",
              "    border: none;\n",
              "    border-radius: 50%;\n",
              "    cursor: pointer;\n",
              "    display: none;\n",
              "    fill: #1967D2;\n",
              "    height: 32px;\n",
              "    padding: 0 0 0 0;\n",
              "    width: 32px;\n",
              "  }\n",
              "\n",
              "  .colab-df-quickchart:hover {\n",
              "    background-color: #E2EBFA;\n",
              "    box-shadow: 0px 1px 2px rgba(60, 64, 67, 0.3), 0px 1px 3px 1px rgba(60, 64, 67, 0.15);\n",
              "    fill: #174EA6;\n",
              "  }\n",
              "\n",
              "  [theme=dark] .colab-df-quickchart {\n",
              "    background-color: #3B4455;\n",
              "    fill: #D2E3FC;\n",
              "  }\n",
              "\n",
              "  [theme=dark] .colab-df-quickchart:hover {\n",
              "    background-color: #434B5C;\n",
              "    box-shadow: 0px 1px 3px 1px rgba(0, 0, 0, 0.15);\n",
              "    filter: drop-shadow(0px 1px 2px rgba(0, 0, 0, 0.3));\n",
              "    fill: #FFFFFF;\n",
              "  }\n",
              "</style>\n",
              "\n",
              "    <script>\n",
              "      async function quickchart(key) {\n",
              "        const containerElement = document.querySelector('#' + key);\n",
              "        const charts = await google.colab.kernel.invokeFunction(\n",
              "            'suggestCharts', [key], {});\n",
              "      }\n",
              "    </script>\n",
              "\n",
              "      <script>\n",
              "\n",
              "function displayQuickchartButton(domScope) {\n",
              "  let quickchartButtonEl =\n",
              "    domScope.querySelector('#df-04e5c04e-683d-4ca3-82e0-93cf0f36e507 button.colab-df-quickchart');\n",
              "  quickchartButtonEl.style.display =\n",
              "    google.colab.kernel.accessAllowed ? 'block' : 'none';\n",
              "}\n",
              "\n",
              "        displayQuickchartButton(document);\n",
              "      </script>\n",
              "      <style>\n",
              "    .colab-df-container {\n",
              "      display:flex;\n",
              "      flex-wrap:wrap;\n",
              "      gap: 12px;\n",
              "    }\n",
              "\n",
              "    .colab-df-convert {\n",
              "      background-color: #E8F0FE;\n",
              "      border: none;\n",
              "      border-radius: 50%;\n",
              "      cursor: pointer;\n",
              "      display: none;\n",
              "      fill: #1967D2;\n",
              "      height: 32px;\n",
              "      padding: 0 0 0 0;\n",
              "      width: 32px;\n",
              "    }\n",
              "\n",
              "    .colab-df-convert:hover {\n",
              "      background-color: #E2EBFA;\n",
              "      box-shadow: 0px 1px 2px rgba(60, 64, 67, 0.3), 0px 1px 3px 1px rgba(60, 64, 67, 0.15);\n",
              "      fill: #174EA6;\n",
              "    }\n",
              "\n",
              "    [theme=dark] .colab-df-convert {\n",
              "      background-color: #3B4455;\n",
              "      fill: #D2E3FC;\n",
              "    }\n",
              "\n",
              "    [theme=dark] .colab-df-convert:hover {\n",
              "      background-color: #434B5C;\n",
              "      box-shadow: 0px 1px 3px 1px rgba(0, 0, 0, 0.15);\n",
              "      filter: drop-shadow(0px 1px 2px rgba(0, 0, 0, 0.3));\n",
              "      fill: #FFFFFF;\n",
              "    }\n",
              "  </style>\n",
              "\n",
              "      <script>\n",
              "        const buttonEl =\n",
              "          document.querySelector('#df-9e8f3c27-0c03-4e96-8bec-8814f47e087f button.colab-df-convert');\n",
              "        buttonEl.style.display =\n",
              "          google.colab.kernel.accessAllowed ? 'block' : 'none';\n",
              "\n",
              "        async function convertToInteractive(key) {\n",
              "          const element = document.querySelector('#df-9e8f3c27-0c03-4e96-8bec-8814f47e087f');\n",
              "          const dataTable =\n",
              "            await google.colab.kernel.invokeFunction('convertToInteractive',\n",
              "                                                     [key], {});\n",
              "          if (!dataTable) return;\n",
              "\n",
              "          const docLinkHtml = 'Like what you see? Visit the ' +\n",
              "            '<a target=\"_blank\" href=https://colab.research.google.com/notebooks/data_table.ipynb>data table notebook</a>'\n",
              "            + ' to learn more about interactive tables.';\n",
              "          element.innerHTML = '';\n",
              "          dataTable['output_type'] = 'display_data';\n",
              "          await google.colab.output.renderOutput(dataTable, element);\n",
              "          const docLink = document.createElement('div');\n",
              "          docLink.innerHTML = docLinkHtml;\n",
              "          element.appendChild(docLink);\n",
              "        }\n",
              "      </script>\n",
              "    </div>\n",
              "  </div>\n"
            ]
          },
          "metadata": {},
          "execution_count": 2408
        }
      ]
    },
    {
      "cell_type": "code",
      "source": [
        "randomextranormal.fillna('', inplace=True)"
      ],
      "metadata": {
        "id": "ns10sfU7_j4I"
      },
      "execution_count": null,
      "outputs": []
    },
    {
      "cell_type": "code",
      "source": [
        "randomextranormal[randomextranormal['name'] == 'Cyber Dragon Infinity']"
      ],
      "metadata": {
        "colab": {
          "base_uri": "https://localhost:8080/"
        },
        "id": "1OkMOzjq_8hL",
        "outputId": "e87bcc37-923d-4e57-d8bb-2c46ec285cad"
      },
      "execution_count": null,
      "outputs": [
        {
          "output_type": "execute_result",
          "data": {
            "text/plain": [
              "    Unnamed: 0        id                   name         type  \\\n",
              "66        2168  10443957  Cyber Dragon Infinity  XYZ Monster   \n",
              "\n",
              "                                                 desc     atk     def level  \\\n",
              "66  3 Level 6 LIGHT Machine monsters\\r\\nOnce per t...  2100.0  1600.0   6.0   \n",
              "\n",
              "       race attribute scale     archetype linkval linkmarkers  \n",
              "66  Machine     LIGHT        Cyber Dragon                      "
            ],
            "text/html": [
              "\n",
              "\n",
              "  <div id=\"df-faf9371f-c314-4a15-b142-aa847110ab86\">\n",
              "    <div class=\"colab-df-container\">\n",
              "      <div>\n",
              "<style scoped>\n",
              "    .dataframe tbody tr th:only-of-type {\n",
              "        vertical-align: middle;\n",
              "    }\n",
              "\n",
              "    .dataframe tbody tr th {\n",
              "        vertical-align: top;\n",
              "    }\n",
              "\n",
              "    .dataframe thead th {\n",
              "        text-align: right;\n",
              "    }\n",
              "</style>\n",
              "<table border=\"1\" class=\"dataframe\">\n",
              "  <thead>\n",
              "    <tr style=\"text-align: right;\">\n",
              "      <th></th>\n",
              "      <th>Unnamed: 0</th>\n",
              "      <th>id</th>\n",
              "      <th>name</th>\n",
              "      <th>type</th>\n",
              "      <th>desc</th>\n",
              "      <th>atk</th>\n",
              "      <th>def</th>\n",
              "      <th>level</th>\n",
              "      <th>race</th>\n",
              "      <th>attribute</th>\n",
              "      <th>scale</th>\n",
              "      <th>archetype</th>\n",
              "      <th>linkval</th>\n",
              "      <th>linkmarkers</th>\n",
              "    </tr>\n",
              "  </thead>\n",
              "  <tbody>\n",
              "    <tr>\n",
              "      <th>66</th>\n",
              "      <td>2168</td>\n",
              "      <td>10443957</td>\n",
              "      <td>Cyber Dragon Infinity</td>\n",
              "      <td>XYZ Monster</td>\n",
              "      <td>3 Level 6 LIGHT Machine monsters\\r\\nOnce per t...</td>\n",
              "      <td>2100.0</td>\n",
              "      <td>1600.0</td>\n",
              "      <td>6.0</td>\n",
              "      <td>Machine</td>\n",
              "      <td>LIGHT</td>\n",
              "      <td></td>\n",
              "      <td>Cyber Dragon</td>\n",
              "      <td></td>\n",
              "      <td></td>\n",
              "    </tr>\n",
              "  </tbody>\n",
              "</table>\n",
              "</div>\n",
              "      <button class=\"colab-df-convert\" onclick=\"convertToInteractive('df-faf9371f-c314-4a15-b142-aa847110ab86')\"\n",
              "              title=\"Convert this dataframe to an interactive table.\"\n",
              "              style=\"display:none;\">\n",
              "\n",
              "  <svg xmlns=\"http://www.w3.org/2000/svg\" height=\"24px\"viewBox=\"0 0 24 24\"\n",
              "       width=\"24px\">\n",
              "    <path d=\"M0 0h24v24H0V0z\" fill=\"none\"/>\n",
              "    <path d=\"M18.56 5.44l.94 2.06.94-2.06 2.06-.94-2.06-.94-.94-2.06-.94 2.06-2.06.94zm-11 1L8.5 8.5l.94-2.06 2.06-.94-2.06-.94L8.5 2.5l-.94 2.06-2.06.94zm10 10l.94 2.06.94-2.06 2.06-.94-2.06-.94-.94-2.06-.94 2.06-2.06.94z\"/><path d=\"M17.41 7.96l-1.37-1.37c-.4-.4-.92-.59-1.43-.59-.52 0-1.04.2-1.43.59L10.3 9.45l-7.72 7.72c-.78.78-.78 2.05 0 2.83L4 21.41c.39.39.9.59 1.41.59.51 0 1.02-.2 1.41-.59l7.78-7.78 2.81-2.81c.8-.78.8-2.07 0-2.86zM5.41 20L4 18.59l7.72-7.72 1.47 1.35L5.41 20z\"/>\n",
              "  </svg>\n",
              "      </button>\n",
              "\n",
              "\n",
              "\n",
              "    <div id=\"df-d0481506-a3ac-4cba-a295-4259fc41fab1\">\n",
              "      <button class=\"colab-df-quickchart\" onclick=\"quickchart('df-d0481506-a3ac-4cba-a295-4259fc41fab1')\"\n",
              "              title=\"Suggest charts.\"\n",
              "              style=\"display:none;\">\n",
              "\n",
              "<svg xmlns=\"http://www.w3.org/2000/svg\" height=\"24px\"viewBox=\"0 0 24 24\"\n",
              "     width=\"24px\">\n",
              "    <g>\n",
              "        <path d=\"M19 3H5c-1.1 0-2 .9-2 2v14c0 1.1.9 2 2 2h14c1.1 0 2-.9 2-2V5c0-1.1-.9-2-2-2zM9 17H7v-7h2v7zm4 0h-2V7h2v10zm4 0h-2v-4h2v4z\"/>\n",
              "    </g>\n",
              "</svg>\n",
              "      </button>\n",
              "    </div>\n",
              "\n",
              "<style>\n",
              "  .colab-df-quickchart {\n",
              "    background-color: #E8F0FE;\n",
              "    border: none;\n",
              "    border-radius: 50%;\n",
              "    cursor: pointer;\n",
              "    display: none;\n",
              "    fill: #1967D2;\n",
              "    height: 32px;\n",
              "    padding: 0 0 0 0;\n",
              "    width: 32px;\n",
              "  }\n",
              "\n",
              "  .colab-df-quickchart:hover {\n",
              "    background-color: #E2EBFA;\n",
              "    box-shadow: 0px 1px 2px rgba(60, 64, 67, 0.3), 0px 1px 3px 1px rgba(60, 64, 67, 0.15);\n",
              "    fill: #174EA6;\n",
              "  }\n",
              "\n",
              "  [theme=dark] .colab-df-quickchart {\n",
              "    background-color: #3B4455;\n",
              "    fill: #D2E3FC;\n",
              "  }\n",
              "\n",
              "  [theme=dark] .colab-df-quickchart:hover {\n",
              "    background-color: #434B5C;\n",
              "    box-shadow: 0px 1px 3px 1px rgba(0, 0, 0, 0.15);\n",
              "    filter: drop-shadow(0px 1px 2px rgba(0, 0, 0, 0.3));\n",
              "    fill: #FFFFFF;\n",
              "  }\n",
              "</style>\n",
              "\n",
              "    <script>\n",
              "      async function quickchart(key) {\n",
              "        const containerElement = document.querySelector('#' + key);\n",
              "        const charts = await google.colab.kernel.invokeFunction(\n",
              "            'suggestCharts', [key], {});\n",
              "      }\n",
              "    </script>\n",
              "\n",
              "      <script>\n",
              "\n",
              "function displayQuickchartButton(domScope) {\n",
              "  let quickchartButtonEl =\n",
              "    domScope.querySelector('#df-d0481506-a3ac-4cba-a295-4259fc41fab1 button.colab-df-quickchart');\n",
              "  quickchartButtonEl.style.display =\n",
              "    google.colab.kernel.accessAllowed ? 'block' : 'none';\n",
              "}\n",
              "\n",
              "        displayQuickchartButton(document);\n",
              "      </script>\n",
              "      <style>\n",
              "    .colab-df-container {\n",
              "      display:flex;\n",
              "      flex-wrap:wrap;\n",
              "      gap: 12px;\n",
              "    }\n",
              "\n",
              "    .colab-df-convert {\n",
              "      background-color: #E8F0FE;\n",
              "      border: none;\n",
              "      border-radius: 50%;\n",
              "      cursor: pointer;\n",
              "      display: none;\n",
              "      fill: #1967D2;\n",
              "      height: 32px;\n",
              "      padding: 0 0 0 0;\n",
              "      width: 32px;\n",
              "    }\n",
              "\n",
              "    .colab-df-convert:hover {\n",
              "      background-color: #E2EBFA;\n",
              "      box-shadow: 0px 1px 2px rgba(60, 64, 67, 0.3), 0px 1px 3px 1px rgba(60, 64, 67, 0.15);\n",
              "      fill: #174EA6;\n",
              "    }\n",
              "\n",
              "    [theme=dark] .colab-df-convert {\n",
              "      background-color: #3B4455;\n",
              "      fill: #D2E3FC;\n",
              "    }\n",
              "\n",
              "    [theme=dark] .colab-df-convert:hover {\n",
              "      background-color: #434B5C;\n",
              "      box-shadow: 0px 1px 3px 1px rgba(0, 0, 0, 0.15);\n",
              "      filter: drop-shadow(0px 1px 2px rgba(0, 0, 0, 0.3));\n",
              "      fill: #FFFFFF;\n",
              "    }\n",
              "  </style>\n",
              "\n",
              "      <script>\n",
              "        const buttonEl =\n",
              "          document.querySelector('#df-faf9371f-c314-4a15-b142-aa847110ab86 button.colab-df-convert');\n",
              "        buttonEl.style.display =\n",
              "          google.colab.kernel.accessAllowed ? 'block' : 'none';\n",
              "\n",
              "        async function convertToInteractive(key) {\n",
              "          const element = document.querySelector('#df-faf9371f-c314-4a15-b142-aa847110ab86');\n",
              "          const dataTable =\n",
              "            await google.colab.kernel.invokeFunction('convertToInteractive',\n",
              "                                                     [key], {});\n",
              "          if (!dataTable) return;\n",
              "\n",
              "          const docLinkHtml = 'Like what you see? Visit the ' +\n",
              "            '<a target=\"_blank\" href=https://colab.research.google.com/notebooks/data_table.ipynb>data table notebook</a>'\n",
              "            + ' to learn more about interactive tables.';\n",
              "          element.innerHTML = '';\n",
              "          dataTable['output_type'] = 'display_data';\n",
              "          await google.colab.output.renderOutput(dataTable, element);\n",
              "          const docLink = document.createElement('div');\n",
              "          docLink.innerHTML = docLinkHtml;\n",
              "          element.appendChild(docLink);\n",
              "        }\n",
              "      </script>\n",
              "    </div>\n",
              "  </div>\n"
            ]
          },
          "metadata": {},
          "execution_count": 2410
        }
      ]
    },
    {
      "cell_type": "code",
      "source": [
        "yrandom = le.fit_transform(random[['type']].values.flatten())\n",
        "#\n",
        "yrandomeff = le.fit_transform(randomeff[['type']].values.flatten())\n",
        "#\n",
        "yrandomormal = le.fit_transform(randomnormal[['type']].values.flatten())\n",
        "#\n",
        "yrandomextranormal = le.fit_transform(randomextranormal[['type']].values.flatten())"
      ],
      "metadata": {
        "id": "uskCSdd6ovkl"
      },
      "execution_count": null,
      "outputs": []
    },
    {
      "cell_type": "code",
      "source": [
        "yrandom = yrandom.reshape(-1, 3)\n",
        "#\n",
        "yrandomeff = yrandomeff.reshape(-1, 3)\n",
        "#\n",
        "yrandomormal = yrandomormal.reshape(-1, 3)\n",
        "#\n",
        "yrandomextranormal = yrandomextranormal.reshape(-1, 3)"
      ],
      "metadata": {
        "id": "V2vQY44W3Pn0"
      },
      "execution_count": null,
      "outputs": []
    },
    {
      "cell_type": "code",
      "source": [
        "treepred = Extras_tree.predict(yrandom)\n",
        "treepred"
      ],
      "metadata": {
        "colab": {
          "base_uri": "https://localhost:8080/"
        },
        "id": "Dbbm81deon84",
        "outputId": "e8e8ed3c-a26c-418f-fc35-8822724a100d"
      },
      "execution_count": null,
      "outputs": [
        {
          "output_type": "execute_result",
          "data": {
            "text/plain": [
              "array([0, 0, 0, 0, 0, 0, 0, 0, 0, 0, 0, 0, 0, 0, 0, 0, 0, 0, 0, 0, 0, 0,\n",
              "       0, 0, 0, 0, 0, 0, 0, 0, 0, 0, 0, 0, 0, 0, 0, 0, 0, 0, 0, 0, 0, 0,\n",
              "       0, 0, 0, 0, 0, 0, 0, 0, 0, 0, 0, 0, 0, 0, 0, 0, 0, 0, 0, 0, 0, 0,\n",
              "       0, 0, 0, 0, 0, 0, 0, 0, 0, 0, 0, 0, 0, 0, 0, 0, 0, 0, 0, 0, 0, 0,\n",
              "       0, 0, 0, 0, 0, 0, 0, 0, 0, 0, 0, 0])"
            ]
          },
          "metadata": {},
          "execution_count": 2413
        }
      ]
    },
    {
      "cell_type": "code",
      "source": [
        "treepredeff= Extras_tree.predict(yrandomeff)\n",
        "treepredeff"
      ],
      "metadata": {
        "colab": {
          "base_uri": "https://localhost:8080/"
        },
        "id": "5PMgb5IA8dwz",
        "outputId": "ee2704c2-5ec2-42f7-dd98-e25b4a5c3984"
      },
      "execution_count": null,
      "outputs": [
        {
          "output_type": "execute_result",
          "data": {
            "text/plain": [
              "array([0, 0, 0, 0, 0, 0, 0, 0, 0, 0, 0, 0, 0, 0, 0, 0, 0, 0, 0, 0, 0, 0,\n",
              "       0, 0, 0, 0, 0, 0, 0, 0, 0, 0, 0, 0, 0, 0, 0, 0, 0, 0, 0, 0, 0, 0,\n",
              "       0, 0, 0, 0, 0, 0, 0, 0, 0, 0, 0, 0, 0, 0, 0, 0, 0, 0, 0, 0, 0, 0,\n",
              "       0, 0, 0, 0, 0, 0, 0, 0, 0, 0, 0, 0, 0, 0, 0, 0, 0, 0, 0, 0, 0, 0,\n",
              "       0, 0, 0, 0, 0, 0, 0, 0, 0, 0, 0, 0])"
            ]
          },
          "metadata": {},
          "execution_count": 2414
        }
      ]
    },
    {
      "cell_type": "code",
      "source": [
        "treeprednormal= Extras_tree.predict(yrandomormal)\n",
        "treeprednormal"
      ],
      "metadata": {
        "colab": {
          "base_uri": "https://localhost:8080/"
        },
        "id": "23RhzPJFA_b5",
        "outputId": "09b55a30-cac5-45c9-a04e-c140e0675889"
      },
      "execution_count": null,
      "outputs": [
        {
          "output_type": "execute_result",
          "data": {
            "text/plain": [
              "array([0, 0, 0, 0, 0, 0, 0, 0, 0, 0, 0, 0, 0, 0, 0, 0, 0, 0, 0, 0, 0, 0,\n",
              "       0, 0, 0, 0, 0, 0, 0, 0, 0, 0, 0, 0, 0, 0, 0, 0, 0, 0, 0, 0, 0, 0,\n",
              "       0, 0, 0, 0, 0, 0, 0, 0, 0, 0, 0, 0, 0, 0, 0, 0, 0, 0, 0, 0, 0, 0,\n",
              "       0, 0, 0, 0, 0, 0, 0, 0, 0, 0, 0, 0, 0, 0, 0, 0, 0, 0, 0, 0, 0, 0,\n",
              "       0, 0, 0, 0, 0, 0, 0, 0, 0, 0, 0, 0])"
            ]
          },
          "metadata": {},
          "execution_count": 2415
        }
      ]
    },
    {
      "cell_type": "code",
      "source": [
        "treepredextranormal= Extras_tree.predict(yrandomextranormal)\n",
        "treepredextranormal"
      ],
      "metadata": {
        "colab": {
          "base_uri": "https://localhost:8080/"
        },
        "id": "Ule8fAo7A_ZV",
        "outputId": "f09f52e2-9805-4e50-cfb4-4aaf49a76793"
      },
      "execution_count": null,
      "outputs": [
        {
          "output_type": "execute_result",
          "data": {
            "text/plain": [
              "array([0, 0, 0, 0, 0, 0, 0, 0, 0, 0, 0, 0, 0, 0, 0, 0, 0, 0, 0, 0, 0, 0,\n",
              "       0, 0, 0, 0, 0, 0, 0, 0, 0, 0, 0, 0, 0, 0, 0, 0, 0, 0, 0, 0, 0, 0,\n",
              "       0, 0, 0, 0, 0, 0, 0, 0, 0, 0, 0, 0, 0, 0, 0, 0, 0, 0, 0, 0, 0, 0,\n",
              "       0, 0, 0, 0, 0, 0, 0, 0, 0, 0, 0, 0, 0, 0, 0, 0, 0, 0, 0, 0, 0, 0,\n",
              "       0, 0, 0, 0, 0, 0, 0, 0, 0, 0, 0, 0])"
            ]
          },
          "metadata": {},
          "execution_count": 2416
        }
      ]
    },
    {
      "cell_type": "code",
      "source": [
        "reversedtree = le.inverse_transform(treepred)"
      ],
      "metadata": {
        "id": "QufrPIuK5qJT"
      },
      "execution_count": null,
      "outputs": []
    },
    {
      "cell_type": "code",
      "source": [
        "reversedtreeeff = le.inverse_transform(treepredeff)"
      ],
      "metadata": {
        "id": "898oQjdO8gvA"
      },
      "execution_count": null,
      "outputs": []
    },
    {
      "cell_type": "code",
      "source": [
        "reversedtreenormal = le.inverse_transform(treeprednormal)"
      ],
      "metadata": {
        "id": "Hx0UdjYvBI1g"
      },
      "execution_count": null,
      "outputs": []
    },
    {
      "cell_type": "code",
      "source": [
        "reversedtreeextranormal = le.inverse_transform(treepredextranormal)"
      ],
      "metadata": {
        "id": "TJjZ0UjdBIyt"
      },
      "execution_count": null,
      "outputs": []
    },
    {
      "cell_type": "code",
      "source": [
        "gausspred = gaussianNB.predict(yrandom)\n",
        "gausspred"
      ],
      "metadata": {
        "colab": {
          "base_uri": "https://localhost:8080/"
        },
        "id": "wgHRJOZQp_WL",
        "outputId": "896ea07f-3848-40c4-8245-2183d705733d"
      },
      "execution_count": null,
      "outputs": [
        {
          "output_type": "execute_result",
          "data": {
            "text/plain": [
              "array([0, 0, 0, 0, 0, 0, 0, 0, 0, 0, 0, 0, 0, 0, 0, 0, 0, 0, 0, 0, 0, 0,\n",
              "       0, 0, 0, 0, 0, 0, 0, 0, 0, 0, 0, 0, 0, 0, 0, 0, 0, 0, 0, 0, 0, 0,\n",
              "       0, 0, 0, 0, 0, 0, 0, 0, 0, 0, 0, 0, 0, 0, 0, 0, 0, 0, 0, 0, 0, 0,\n",
              "       0, 0, 0, 0, 0, 0, 0, 0, 0, 0, 0, 0, 0, 0, 0, 0, 0, 0, 0, 0, 0, 0,\n",
              "       0, 0, 0, 0, 0, 0, 0, 0, 0, 0, 0, 0])"
            ]
          },
          "metadata": {},
          "execution_count": 2421
        }
      ]
    },
    {
      "cell_type": "code",
      "source": [
        "gausspredeff = gaussianNB.predict(yrandomeff)\n",
        "gausspredeff"
      ],
      "metadata": {
        "colab": {
          "base_uri": "https://localhost:8080/"
        },
        "id": "FmMuAyPJ8jpa",
        "outputId": "f5c6e478-0df0-4479-d907-1500e2327b0c"
      },
      "execution_count": null,
      "outputs": [
        {
          "output_type": "execute_result",
          "data": {
            "text/plain": [
              "array([0, 0, 0, 0, 0, 0, 0, 0, 0, 0, 0, 0, 0, 0, 0, 0, 0, 0, 0, 0, 0, 0,\n",
              "       0, 0, 0, 0, 0, 0, 0, 0, 0, 0, 0, 0, 0, 0, 0, 0, 0, 0, 0, 0, 0, 0,\n",
              "       0, 0, 0, 0, 0, 0, 0, 0, 0, 0, 0, 0, 0, 0, 0, 0, 0, 0, 0, 0, 0, 0,\n",
              "       0, 0, 0, 0, 0, 0, 0, 0, 0, 0, 0, 0, 0, 0, 0, 0, 0, 0, 0, 0, 0, 0,\n",
              "       0, 0, 0, 0, 0, 0, 0, 0, 0, 0, 0, 0])"
            ]
          },
          "metadata": {},
          "execution_count": 2422
        }
      ]
    },
    {
      "cell_type": "code",
      "source": [
        "gaussprednormal = gaussianNB.predict(yrandomormal)\n",
        "gaussprednormal"
      ],
      "metadata": {
        "colab": {
          "base_uri": "https://localhost:8080/"
        },
        "id": "ZoVmto6cBSbP",
        "outputId": "7f63d89a-0975-4001-856b-a3f6d2c5f829"
      },
      "execution_count": null,
      "outputs": [
        {
          "output_type": "execute_result",
          "data": {
            "text/plain": [
              "array([0, 0, 0, 0, 0, 0, 0, 0, 0, 0, 0, 0, 0, 0, 0, 0, 0, 0, 0, 0, 0, 0,\n",
              "       0, 0, 0, 0, 0, 0, 0, 0, 0, 0, 0, 0, 0, 0, 0, 0, 0, 0, 0, 0, 0, 0,\n",
              "       0, 0, 0, 0, 0, 0, 0, 0, 0, 0, 0, 0, 0, 0, 0, 0, 0, 0, 0, 0, 0, 0,\n",
              "       0, 0, 0, 0, 0, 0, 0, 0, 0, 0, 0, 0, 0, 0, 0, 0, 0, 0, 0, 0, 0, 0,\n",
              "       0, 0, 0, 0, 0, 0, 0, 0, 0, 0, 0, 0])"
            ]
          },
          "metadata": {},
          "execution_count": 2423
        }
      ]
    },
    {
      "cell_type": "code",
      "source": [
        "gausspredextranormal = gaussianNB.predict(yrandomextranormal)\n",
        "gausspredextranormal"
      ],
      "metadata": {
        "colab": {
          "base_uri": "https://localhost:8080/"
        },
        "id": "AGYjm9DCBSYg",
        "outputId": "3f5ed886-7c78-4e16-9d8c-febcc0858a0c"
      },
      "execution_count": null,
      "outputs": [
        {
          "output_type": "execute_result",
          "data": {
            "text/plain": [
              "array([0, 0, 0, 0, 0, 0, 0, 0, 0, 0, 0, 0, 0, 0, 0, 0, 0, 0, 0, 0, 0, 0,\n",
              "       0, 0, 0, 0, 0, 0, 0, 0, 0, 0, 0, 0, 0, 0, 0, 0, 0, 0, 0, 0, 0, 0,\n",
              "       0, 0, 0, 0, 0, 0, 0, 0, 0, 0, 0, 0, 0, 0, 0, 0, 0, 0, 0, 0, 0, 0,\n",
              "       0, 0, 0, 0, 0, 0, 0, 0, 0, 0, 0, 0, 0, 0, 0, 0, 0, 0, 0, 0, 0, 0,\n",
              "       0, 0, 0, 0, 0, 0, 0, 0, 0, 0, 0, 0])"
            ]
          },
          "metadata": {},
          "execution_count": 2424
        }
      ]
    },
    {
      "cell_type": "code",
      "source": [
        "reservedgauss = le.inverse_transform(gausspred)"
      ],
      "metadata": {
        "id": "wLtRDOpQ7Evq"
      },
      "execution_count": null,
      "outputs": []
    },
    {
      "cell_type": "code",
      "source": [
        "reservedgausseff = le.inverse_transform(gausspredeff)"
      ],
      "metadata": {
        "id": "7KFyA6_M8kNF"
      },
      "execution_count": null,
      "outputs": []
    },
    {
      "cell_type": "code",
      "source": [
        "reservedgaussnormal = le.inverse_transform(gaussprednormal)"
      ],
      "metadata": {
        "id": "vR__73Y-BdTV"
      },
      "execution_count": null,
      "outputs": []
    },
    {
      "cell_type": "code",
      "source": [
        "reservedgaussextranormal = le.inverse_transform(gausspredextranormal)"
      ],
      "metadata": {
        "id": "yXKUD1j1BdRH"
      },
      "execution_count": null,
      "outputs": []
    },
    {
      "cell_type": "markdown",
      "source": [
        "## Natural Language Processing"
      ],
      "metadata": {
        "id": "6KntXu9mbL61"
      }
    },
    {
      "cell_type": "markdown",
      "source": [
        "> Nesta seção do Notebook iremos trabalha acima do dataset das 200 cartas mais usadas no Aplicativo Oficial de Yu-Gi-Oh!: Master Duel.\n",
        "\n",
        "> Usando esse dataset iremos extrair palavras chaves encontradas nas da descrição dos efeitos das cartas.\n",
        "\n",
        "> Uma vez extraidas as palavras chaves iremos analisar qual a palavra chave que tem a maior representatividade nessas 200 cartas.\n",
        "\n",
        "\n",
        "\n",
        "\n",
        "\n",
        "\n"
      ],
      "metadata": {
        "id": "YcZ-38Nq7M5J"
      }
    },
    {
      "cell_type": "code",
      "source": [
        "# Declarações necessárias para o desvenvolvimento da parte de Natural Language Processing\n",
        "stopwords = list(STOP_WORDS)\n",
        "nlp = spacy.load(\"en_core_web_sm\")"
      ],
      "metadata": {
        "id": "Ncfca952bZWK"
      },
      "execution_count": null,
      "outputs": []
    },
    {
      "cell_type": "code",
      "source": [
        "# Aqui vamos criar uma copia do dataset, eliminando colunas que trazem informações secundárias sobre as cartas e que não fazem sentido para nossa proposta.\n",
        "Top =  topused.drop(['image_url','image_url_small','ban_tcg','ban_ocg','ban_goat','staple','views','viewsweek','upvotes','downvotes','formats','treated_as','tcg_date','ocg_date','konami_id','has_effect'], axis=1)"
      ],
      "metadata": {
        "id": "wliWjgwcbZhK"
      },
      "execution_count": null,
      "outputs": []
    },
    {
      "cell_type": "code",
      "source": [
        "#Exemplo de uma carta que está no dataset\n",
        "Top[Top['name'] == 'Ash Blossom & Joyous Spring']"
      ],
      "metadata": {
        "colab": {
          "base_uri": "https://localhost:8080/",
          "height": 159
        },
        "id": "TuUtNh4FbZek",
        "outputId": "9b80213c-11e0-4374-e842-012440b62a95"
      },
      "execution_count": null,
      "outputs": [
        {
          "output_type": "execute_result",
          "data": {
            "text/plain": [
              "     Unnamed: 0        id                         name           type  \\\n",
              "199         199  14558127  Ash Blossom & Joyous Spring  Tuner Monster   \n",
              "\n",
              "                                                  desc  atk     def  level  \\\n",
              "199  When a card or effect is activated that includ...  0.0  1800.0    3.0   \n",
              "\n",
              "       race attribute  scale archetype  linkval linkmarkers  \n",
              "199  Zombie      FIRE    NaN       NaN      NaN         NaN  "
            ],
            "text/html": [
              "\n",
              "\n",
              "  <div id=\"df-2a8f9a6c-340c-4b37-9584-0343e602bc3e\">\n",
              "    <div class=\"colab-df-container\">\n",
              "      <div>\n",
              "<style scoped>\n",
              "    .dataframe tbody tr th:only-of-type {\n",
              "        vertical-align: middle;\n",
              "    }\n",
              "\n",
              "    .dataframe tbody tr th {\n",
              "        vertical-align: top;\n",
              "    }\n",
              "\n",
              "    .dataframe thead th {\n",
              "        text-align: right;\n",
              "    }\n",
              "</style>\n",
              "<table border=\"1\" class=\"dataframe\">\n",
              "  <thead>\n",
              "    <tr style=\"text-align: right;\">\n",
              "      <th></th>\n",
              "      <th>Unnamed: 0</th>\n",
              "      <th>id</th>\n",
              "      <th>name</th>\n",
              "      <th>type</th>\n",
              "      <th>desc</th>\n",
              "      <th>atk</th>\n",
              "      <th>def</th>\n",
              "      <th>level</th>\n",
              "      <th>race</th>\n",
              "      <th>attribute</th>\n",
              "      <th>scale</th>\n",
              "      <th>archetype</th>\n",
              "      <th>linkval</th>\n",
              "      <th>linkmarkers</th>\n",
              "    </tr>\n",
              "  </thead>\n",
              "  <tbody>\n",
              "    <tr>\n",
              "      <th>199</th>\n",
              "      <td>199</td>\n",
              "      <td>14558127</td>\n",
              "      <td>Ash Blossom &amp; Joyous Spring</td>\n",
              "      <td>Tuner Monster</td>\n",
              "      <td>When a card or effect is activated that includ...</td>\n",
              "      <td>0.0</td>\n",
              "      <td>1800.0</td>\n",
              "      <td>3.0</td>\n",
              "      <td>Zombie</td>\n",
              "      <td>FIRE</td>\n",
              "      <td>NaN</td>\n",
              "      <td>NaN</td>\n",
              "      <td>NaN</td>\n",
              "      <td>NaN</td>\n",
              "    </tr>\n",
              "  </tbody>\n",
              "</table>\n",
              "</div>\n",
              "      <button class=\"colab-df-convert\" onclick=\"convertToInteractive('df-2a8f9a6c-340c-4b37-9584-0343e602bc3e')\"\n",
              "              title=\"Convert this dataframe to an interactive table.\"\n",
              "              style=\"display:none;\">\n",
              "\n",
              "  <svg xmlns=\"http://www.w3.org/2000/svg\" height=\"24px\"viewBox=\"0 0 24 24\"\n",
              "       width=\"24px\">\n",
              "    <path d=\"M0 0h24v24H0V0z\" fill=\"none\"/>\n",
              "    <path d=\"M18.56 5.44l.94 2.06.94-2.06 2.06-.94-2.06-.94-.94-2.06-.94 2.06-2.06.94zm-11 1L8.5 8.5l.94-2.06 2.06-.94-2.06-.94L8.5 2.5l-.94 2.06-2.06.94zm10 10l.94 2.06.94-2.06 2.06-.94-2.06-.94-.94-2.06-.94 2.06-2.06.94z\"/><path d=\"M17.41 7.96l-1.37-1.37c-.4-.4-.92-.59-1.43-.59-.52 0-1.04.2-1.43.59L10.3 9.45l-7.72 7.72c-.78.78-.78 2.05 0 2.83L4 21.41c.39.39.9.59 1.41.59.51 0 1.02-.2 1.41-.59l7.78-7.78 2.81-2.81c.8-.78.8-2.07 0-2.86zM5.41 20L4 18.59l7.72-7.72 1.47 1.35L5.41 20z\"/>\n",
              "  </svg>\n",
              "      </button>\n",
              "\n",
              "\n",
              "\n",
              "    <div id=\"df-7c05a5bc-b6e2-4db2-a7f4-1f538ea70726\">\n",
              "      <button class=\"colab-df-quickchart\" onclick=\"quickchart('df-7c05a5bc-b6e2-4db2-a7f4-1f538ea70726')\"\n",
              "              title=\"Suggest charts.\"\n",
              "              style=\"display:none;\">\n",
              "\n",
              "<svg xmlns=\"http://www.w3.org/2000/svg\" height=\"24px\"viewBox=\"0 0 24 24\"\n",
              "     width=\"24px\">\n",
              "    <g>\n",
              "        <path d=\"M19 3H5c-1.1 0-2 .9-2 2v14c0 1.1.9 2 2 2h14c1.1 0 2-.9 2-2V5c0-1.1-.9-2-2-2zM9 17H7v-7h2v7zm4 0h-2V7h2v10zm4 0h-2v-4h2v4z\"/>\n",
              "    </g>\n",
              "</svg>\n",
              "      </button>\n",
              "    </div>\n",
              "\n",
              "<style>\n",
              "  .colab-df-quickchart {\n",
              "    background-color: #E8F0FE;\n",
              "    border: none;\n",
              "    border-radius: 50%;\n",
              "    cursor: pointer;\n",
              "    display: none;\n",
              "    fill: #1967D2;\n",
              "    height: 32px;\n",
              "    padding: 0 0 0 0;\n",
              "    width: 32px;\n",
              "  }\n",
              "\n",
              "  .colab-df-quickchart:hover {\n",
              "    background-color: #E2EBFA;\n",
              "    box-shadow: 0px 1px 2px rgba(60, 64, 67, 0.3), 0px 1px 3px 1px rgba(60, 64, 67, 0.15);\n",
              "    fill: #174EA6;\n",
              "  }\n",
              "\n",
              "  [theme=dark] .colab-df-quickchart {\n",
              "    background-color: #3B4455;\n",
              "    fill: #D2E3FC;\n",
              "  }\n",
              "\n",
              "  [theme=dark] .colab-df-quickchart:hover {\n",
              "    background-color: #434B5C;\n",
              "    box-shadow: 0px 1px 3px 1px rgba(0, 0, 0, 0.15);\n",
              "    filter: drop-shadow(0px 1px 2px rgba(0, 0, 0, 0.3));\n",
              "    fill: #FFFFFF;\n",
              "  }\n",
              "</style>\n",
              "\n",
              "    <script>\n",
              "      async function quickchart(key) {\n",
              "        const containerElement = document.querySelector('#' + key);\n",
              "        const charts = await google.colab.kernel.invokeFunction(\n",
              "            'suggestCharts', [key], {});\n",
              "      }\n",
              "    </script>\n",
              "\n",
              "      <script>\n",
              "\n",
              "function displayQuickchartButton(domScope) {\n",
              "  let quickchartButtonEl =\n",
              "    domScope.querySelector('#df-7c05a5bc-b6e2-4db2-a7f4-1f538ea70726 button.colab-df-quickchart');\n",
              "  quickchartButtonEl.style.display =\n",
              "    google.colab.kernel.accessAllowed ? 'block' : 'none';\n",
              "}\n",
              "\n",
              "        displayQuickchartButton(document);\n",
              "      </script>\n",
              "      <style>\n",
              "    .colab-df-container {\n",
              "      display:flex;\n",
              "      flex-wrap:wrap;\n",
              "      gap: 12px;\n",
              "    }\n",
              "\n",
              "    .colab-df-convert {\n",
              "      background-color: #E8F0FE;\n",
              "      border: none;\n",
              "      border-radius: 50%;\n",
              "      cursor: pointer;\n",
              "      display: none;\n",
              "      fill: #1967D2;\n",
              "      height: 32px;\n",
              "      padding: 0 0 0 0;\n",
              "      width: 32px;\n",
              "    }\n",
              "\n",
              "    .colab-df-convert:hover {\n",
              "      background-color: #E2EBFA;\n",
              "      box-shadow: 0px 1px 2px rgba(60, 64, 67, 0.3), 0px 1px 3px 1px rgba(60, 64, 67, 0.15);\n",
              "      fill: #174EA6;\n",
              "    }\n",
              "\n",
              "    [theme=dark] .colab-df-convert {\n",
              "      background-color: #3B4455;\n",
              "      fill: #D2E3FC;\n",
              "    }\n",
              "\n",
              "    [theme=dark] .colab-df-convert:hover {\n",
              "      background-color: #434B5C;\n",
              "      box-shadow: 0px 1px 3px 1px rgba(0, 0, 0, 0.15);\n",
              "      filter: drop-shadow(0px 1px 2px rgba(0, 0, 0, 0.3));\n",
              "      fill: #FFFFFF;\n",
              "    }\n",
              "  </style>\n",
              "\n",
              "      <script>\n",
              "        const buttonEl =\n",
              "          document.querySelector('#df-2a8f9a6c-340c-4b37-9584-0343e602bc3e button.colab-df-convert');\n",
              "        buttonEl.style.display =\n",
              "          google.colab.kernel.accessAllowed ? 'block' : 'none';\n",
              "\n",
              "        async function convertToInteractive(key) {\n",
              "          const element = document.querySelector('#df-2a8f9a6c-340c-4b37-9584-0343e602bc3e');\n",
              "          const dataTable =\n",
              "            await google.colab.kernel.invokeFunction('convertToInteractive',\n",
              "                                                     [key], {});\n",
              "          if (!dataTable) return;\n",
              "\n",
              "          const docLinkHtml = 'Like what you see? Visit the ' +\n",
              "            '<a target=\"_blank\" href=https://colab.research.google.com/notebooks/data_table.ipynb>data table notebook</a>'\n",
              "            + ' to learn more about interactive tables.';\n",
              "          element.innerHTML = '';\n",
              "          dataTable['output_type'] = 'display_data';\n",
              "          await google.colab.output.renderOutput(dataTable, element);\n",
              "          const docLink = document.createElement('div');\n",
              "          docLink.innerHTML = docLinkHtml;\n",
              "          element.appendChild(docLink);\n",
              "        }\n",
              "      </script>\n",
              "    </div>\n",
              "  </div>\n"
            ]
          },
          "metadata": {},
          "execution_count": 2431
        }
      ]
    },
    {
      "cell_type": "code",
      "source": [
        "#Juntamos todas as descrições das 200 cartas nessa variável uma vez que é a Descrição que carrega as palavras chaves que iremos extrair para desenvolver o trabalho\n",
        "all = Top['desc'].astype(\"string\")"
      ],
      "metadata": {
        "id": "zEbxU842bZTZ"
      },
      "execution_count": null,
      "outputs": []
    },
    {
      "cell_type": "code",
      "source": [
        "#Extração das palavras chaves das descrições. Escolhemos as palavras que mais trazem consigo um significado maior de interação entre os Duelistas\n",
        "all = all.str.extract(r'(Negate|negate|Banish|banish|Destroy|destroy|Send|send|Discard|discard|Attacks|attacks|Draw|draw|Add|add|Equip|equip|cannot target|Inflict|inflict)')"
      ],
      "metadata": {
        "id": "1njOlx3neaii"
      },
      "execution_count": null,
      "outputs": []
    },
    {
      "cell_type": "code",
      "source": [
        "# Tarnsformação em string e retirado de \\n\n",
        "result = all.to_string(index = False)\n",
        "result = re.sub(r\"\\s+\", \" \", result)"
      ],
      "metadata": {
        "id": "GcjbSrt2od4a"
      },
      "execution_count": null,
      "outputs": []
    },
    {
      "cell_type": "markdown",
      "source": [
        "### Word tokenization:"
      ],
      "metadata": {
        "id": "PnSK4nuJ4EY1"
      }
    },
    {
      "cell_type": "code",
      "source": [
        "doc = nlp(result)"
      ],
      "metadata": {
        "id": "2O-nBJrziDy4"
      },
      "execution_count": null,
      "outputs": []
    },
    {
      "cell_type": "code",
      "source": [
        "tokens = [token.text for token in doc]\n",
        "punctuation = punctuation + punctuation"
      ],
      "metadata": {
        "id": "_l2Kq5_w1Y9S"
      },
      "execution_count": null,
      "outputs": []
    },
    {
      "cell_type": "code",
      "source": [
        "word_frequencies = {}\n",
        "for word in doc:\n",
        "  if word.text.lower() not in stopwords:\n",
        "    if word.text.lower() not in punctuation:\n",
        "      if word.text not in word_frequencies.keys():\n",
        "        word_frequencies[word.text] = 1\n",
        "      else:\n",
        "        word_frequencies[word.text] += 1\n",
        "word_frequencies"
      ],
      "metadata": {
        "colab": {
          "base_uri": "https://localhost:8080/"
        },
        "id": "aJSOjtwmiDxm",
        "outputId": "55473268-10be-43d3-9f46-72231fdffa62"
      },
      "execution_count": null,
      "outputs": [
        {
          "output_type": "execute_result",
          "data": {
            "text/plain": [
              "{' ': 1,\n",
              " '0': 1,\n",
              " 'destroy': 25,\n",
              " 'negate': 21,\n",
              " 'discard': 12,\n",
              " 'banish': 26,\n",
              " 'Add': 5,\n",
              " 'attacks': 3,\n",
              " 'send': 21,\n",
              " 'draw': 6,\n",
              " 'Banish': 7,\n",
              " 'add': 19,\n",
              " 'equip': 5,\n",
              " 'NA': 15,\n",
              " 'target': 7,\n",
              " 'inflict': 2,\n",
              " 'Equip': 1,\n",
              " 'Negate': 4,\n",
              " 'Destroy': 6,\n",
              " 'Send': 7,\n",
              " 'Discard': 3,\n",
              " 'Draw': 5}"
            ]
          },
          "metadata": {},
          "execution_count": 2437
        }
      ]
    },
    {
      "cell_type": "markdown",
      "source": [
        "### Word Frequency:"
      ],
      "metadata": {
        "id": "HY8tjdT14QSX"
      }
    },
    {
      "cell_type": "code",
      "source": [
        "max_frequency = max(word_frequencies.values())\n",
        "max_frequency\n",
        "ans = ''\n",
        "for word in word_frequencies.keys():\n",
        "  word_frequencies[word] = word_frequencies[word]/max_frequency\n",
        "  ans = (word_frequencies)\n",
        "  sentence_tokens = [sent for sent in doc.sents]\n",
        "ans"
      ],
      "metadata": {
        "colab": {
          "base_uri": "https://localhost:8080/"
        },
        "id": "cjFNJ7wSiDuz",
        "outputId": "65106fc6-204a-4ec9-8698-9bf57e7506fb"
      },
      "execution_count": null,
      "outputs": [
        {
          "output_type": "execute_result",
          "data": {
            "text/plain": [
              "{' ': 0.038461538461538464,\n",
              " '0': 0.038461538461538464,\n",
              " 'destroy': 0.9615384615384616,\n",
              " 'negate': 0.8076923076923077,\n",
              " 'discard': 0.46153846153846156,\n",
              " 'banish': 1.0,\n",
              " 'Add': 0.19230769230769232,\n",
              " 'attacks': 0.11538461538461539,\n",
              " 'send': 0.8076923076923077,\n",
              " 'draw': 0.23076923076923078,\n",
              " 'Banish': 0.2692307692307692,\n",
              " 'add': 0.7307692307692307,\n",
              " 'equip': 0.19230769230769232,\n",
              " 'NA': 0.5769230769230769,\n",
              " 'target': 0.2692307692307692,\n",
              " 'inflict': 0.07692307692307693,\n",
              " 'Equip': 0.038461538461538464,\n",
              " 'Negate': 0.15384615384615385,\n",
              " 'Destroy': 0.23076923076923078,\n",
              " 'Send': 0.2692307692307692,\n",
              " 'Discard': 0.11538461538461539,\n",
              " 'Draw': 0.19230769230769232}"
            ]
          },
          "metadata": {},
          "execution_count": 2438
        }
      ]
    },
    {
      "cell_type": "markdown",
      "source": [
        "### Word frequency table:"
      ],
      "metadata": {
        "id": "MilYO8EvD7ee"
      }
    },
    {
      "cell_type": "code",
      "source": [
        "sentence_scores = {}\n",
        "for sent in sentence_tokens:\n",
        "  for word in sent:\n",
        "    if word.text.lower() in word_frequencies.keys():\n",
        "      if sent not in sentence_scores.keys():\n",
        "        sentence_scores[sent] = word_frequencies[word.text.lower()]\n",
        "      else:\n",
        "        sentence_scores[sent] += word_frequencies[word.text.lower()]\n",
        "sentence_scores"
      ],
      "metadata": {
        "colab": {
          "base_uri": "https://localhost:8080/"
        },
        "id": "-NnZeKDZD8lG",
        "outputId": "df178908-8e7c-41ab-fa7a-2185237c1118"
      },
      "execution_count": null,
      "outputs": [
        {
          "output_type": "execute_result",
          "data": {
            "text/plain": [
              "{ 0 destroy negate discard banish banish Add attacks destroy destroy destroy banish banish negate discard destroy send send draw Banish destroy negate add equip draw add draw banish destroy add destroy <: 22.653846153846146,\n",
              " NA> add Banish negate destroy cannot target <NA>: 3.769230769230769,\n",
              " Add negate destroy negate inflict negate Equip equip banish inflict <: 5.653846153846154,\n",
              " NA> negate equip Banish banish banish Negate send draw negate Destroy banish add banish Add add destroy add destroy negate <NA> send negate add add Send Send send cannot target add <: 21.76923076923076,\n",
              " NA> banish Send draw destroy send negate cannot target negate add <NA> draw banish destroy send add add send add destroy equip destroy <: 14.538461538461537,\n",
              " NA> banish send Negate banish send send add negate attacks Destroy negate add Negate Discard send Draw Draw banish send Draw add banish send <NA> discard discard Discard send Send Banish destroy send add destroy destroy discard discard negate banish discard <: 28.115384615384592,\n",
              " Draw Destroy Banish discard send attacks banish banish <NA> negate banish Send banish discard <: 9.653846153846153,\n",
              " NA> banish cannot target negate cannot target add banish Banish cannot target destroy destroy: 7.269230769230769,\n",
              " equip Draw cannot target <NA>: 0.6923076923076923,\n",
              " Negate Add <NA> Discard destroy send Banish Destroy negate destroy send Destroy Send negate <: 10.884615384615387,\n",
              " NA> discard Add Send <NA> destroy destroy banish Destroy send discard banish negate send banish discard: 11.230769230769232}"
            ]
          },
          "metadata": {},
          "execution_count": 2439
        }
      ]
    },
    {
      "cell_type": "markdown",
      "source": [
        "### Summarization:"
      ],
      "metadata": {
        "id": "YyS2nL3lEA83"
      }
    },
    {
      "cell_type": "code",
      "source": [
        "from heapq import nlargest\n",
        "select_length = int(len(sentence_tokens)*0.3)\n",
        "select_length\n",
        "summary = nlargest(select_length, sentence_scores, key = sentence_scores.get)\n",
        "summary\n",
        "final_summary = [word.text for word in summary]\n",
        "summary = \"\".join(final_summary)\n",
        "summary"
      ],
      "metadata": {
        "colab": {
          "base_uri": "https://localhost:8080/",
          "height": 87
        },
        "id": "ACnzK3c0EBS5",
        "outputId": "d641bd57-2025-4e88-dbf2-3f73d1c3e1ee"
      },
      "execution_count": null,
      "outputs": [
        {
          "output_type": "execute_result",
          "data": {
            "text/plain": [
              "'NA> banish send Negate banish send send add negate attacks Destroy negate add Negate Discard send Draw Draw banish send Draw add banish send <NA> discard discard Discard send Send Banish destroy send add destroy destroy discard discard negate banish discard < 0 destroy negate discard banish banish Add attacks destroy destroy destroy banish banish negate discard destroy send send draw Banish destroy negate add equip draw add draw banish destroy add destroy <NA> negate equip Banish banish banish Negate send draw negate Destroy banish add banish Add add destroy add destroy negate <NA> send negate add add Send Send send cannot target add <'"
            ],
            "application/vnd.google.colaboratory.intrinsic+json": {
              "type": "string"
            }
          },
          "metadata": {},
          "execution_count": 2440
        }
      ]
    },
    {
      "cell_type": "markdown",
      "source": [
        "### Conclusão\n",
        "\n",
        "\n",
        "> Os dados mostram que os efeitos mais comuns das cartas de Yu-Gi-Oh são destruir, negar, banir e enviar. Esses efeitos são poderosos e podem ter um impacto significativo no jogo. Por exemplo, destruir um monstro pode impedir que seu oponente o ataque, negar um efeito pode impedir que seu oponente ative um card, banir um card pode retirar recursos deu seu oponente e enviar um card para o cemitério pode permitir que você ative seu efeito.\n",
        "--------------------------------------------------------------------------------\n",
        "> A palavra “banir” aparece com mais frequência na tabela de frequência de palavras, com uma frequência de 22,65%. Isso sugere que o banimento é um efeito muito poderoso em Yugioh. Quando uma carta é banida, ela é totalmente removida do jogo e não pode ser devolvida ao campo. Esta pode ser uma maneira muito eficaz de se livrar de cartões problemáticos.\n",
        "--------------------------------------------------------------------------------\n",
        "> Com base nos resultados do Summary das palavras-chave dos efeitos da carta Yugioh, os efeitos mais comuns são banir, enviar e negar. Isso sugere que esses são alguns dos efeitos mais poderosos e versáteis do jogo.\n",
        "--------------------------------------------------------------------------------\n",
        "> A palavra \"banir\" aparece duas vezes mais do que qualquer outra palavra, o que sugere que é um efeito muito poderoso. O banimento remove totalmente uma carta do jogo, o que pode ser uma maneira muito eficaz de se livrar de cartas problemáticas.\n",
        "\n",
        "--------------------------------------------------------------------------------\n",
        "> Aprofundando no efeito de Banir, Banir uma carta é removê-la do jogo. Ela fica banida até que uma carta ou efeito específico a retire de banimento. Banir uma carta pode ser uma maneira eficaz de se livrar de um monstro forte ou de impedir que um efeito seja ativado.\n",
        "--------------------------------------------------------------------------------\n",
        "> Exemplo de carta que tem em seu efeito a palavra chave Banir: https://shorturl.at/gnyGM\n",
        "\n"
      ],
      "metadata": {
        "id": "NkKnOh2c_W4J"
      }
    }
  ]
}