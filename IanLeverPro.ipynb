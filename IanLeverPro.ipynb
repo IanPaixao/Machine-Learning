{
  "nbformat": 4,
  "nbformat_minor": 0,
  "metadata": {
    "colab": {
      "provenance": []
    },
    "kernelspec": {
      "name": "python3",
      "display_name": "Python 3"
    },
    "language_info": {
      "name": "python"
    }
  },
  "cells": [
    {
      "cell_type": "markdown",
      "source": [
        "**Célula de Texto: Solução para o Teste de Analista de Dados**\n",
        "\n",
        "**Desenvolvido por: Ian Rodrigues**\n",
        "\n",
        "Esta solução aborda os desafios propostos no teste de Analista de Dados, utilizando Python com as bibliotecas Pandas, openpyxl, mysql-connector-python e Graphviz para processar e analisar os dados do arquivo Excel \"Extração_Teste_LeverPro.xlsx\". O objetivo principal foi:\n",
        "\n",
        "* Tratar os dados\n",
        "* Modelar o banco de dados\n",
        "* Verificar a integridade do balancete\n",
        "* Gerar um resumo em formato JSON\n",
        "\n",
        "**Principais Etapas e Resultados:**\n",
        "\n",
        "1.  **Modelagem do Banco de Dados:**\n",
        "\n",
        "    * Foi criado um **Diagrama Entidade-Relacionamento (DER)** no modelo estrela.\n",
        "    * O DER representa as tabelas:\n",
        "        * Empresa\n",
        "        * Relatorio\n",
        "        * CentroDeCusto\n",
        "        * MovimentoContabil\n",
        "    * Os relacionamentos entre as tabelas foram definidos.\n",
        "\n",
        "2.  **Tratamento dos Dados:**\n",
        "\n",
        "    * Os dados foram lidos e tratados utilizando **Pandas**.\n",
        "    * As seguintes ações foram realizadas:\n",
        "        * Limpeza e padronização de colunas\n",
        "        * Conversões de tipo\n",
        "        * Criação da coluna \"Tipo\" (Ativo/Passivo)\n",
        "\n",
        "3.  **Geração de Scripts SQL:**\n",
        "\n",
        "    * Scripts **SQL (DDL)** foram gerados para criar as tabelas no banco de dados.\n",
        "    * Scripts de **inserção (INSERT)** foram gerados para popular as tabelas.\n",
        "\n",
        "4.  **Verificação da Integridade:**\n",
        "\n",
        "    * A integridade do balancete foi verificada calculando a soma de Ativo e Passivo.\n",
        "    * O resultado foi apresentado em **formato JSON**, indicando se o balancete está íntegro ou não.\n",
        "\n",
        "5.  **Geração de Resumo em JSON:**\n",
        "\n",
        "    * Um arquivo **JSON** foi gerado, resumindo a integridade por empresa.\n",
        "    * Este resumo facilita a análise e interpretação dos resultados.\n",
        "\n"
      ],
      "metadata": {
        "id": "0rsTS_1vDNH1"
      }
    },
    {
      "cell_type": "code",
      "source": [
        "# 📦 Instalações (apenas no Colab)\n",
        "!pip install pandas openpyxl mysql-connector-python graphviz\n",
        "\n",
        "# 📚 Imports\n",
        "import pandas as pd\n",
        "from google.colab import files\n",
        "from graphviz import Digraph\n",
        "import json"
      ],
      "metadata": {
        "colab": {
          "base_uri": "https://localhost:8080/"
        },
        "id": "YaAcKFimC8R5",
        "outputId": "4101fd6c-fefa-41dc-e1eb-c64368482689"
      },
      "execution_count": 1,
      "outputs": [
        {
          "output_type": "stream",
          "name": "stdout",
          "text": [
            "Requirement already satisfied: pandas in /usr/local/lib/python3.11/dist-packages (2.2.2)\n",
            "Requirement already satisfied: openpyxl in /usr/local/lib/python3.11/dist-packages (3.1.5)\n",
            "Collecting mysql-connector-python\n",
            "  Downloading mysql_connector_python-9.3.0-cp311-cp311-manylinux_2_28_x86_64.whl.metadata (7.2 kB)\n",
            "Requirement already satisfied: graphviz in /usr/local/lib/python3.11/dist-packages (0.20.3)\n",
            "Requirement already satisfied: numpy>=1.23.2 in /usr/local/lib/python3.11/dist-packages (from pandas) (2.0.2)\n",
            "Requirement already satisfied: python-dateutil>=2.8.2 in /usr/local/lib/python3.11/dist-packages (from pandas) (2.9.0.post0)\n",
            "Requirement already satisfied: pytz>=2020.1 in /usr/local/lib/python3.11/dist-packages (from pandas) (2025.2)\n",
            "Requirement already satisfied: tzdata>=2022.7 in /usr/local/lib/python3.11/dist-packages (from pandas) (2025.2)\n",
            "Requirement already satisfied: et-xmlfile in /usr/local/lib/python3.11/dist-packages (from openpyxl) (2.0.0)\n",
            "Requirement already satisfied: six>=1.5 in /usr/local/lib/python3.11/dist-packages (from python-dateutil>=2.8.2->pandas) (1.17.0)\n",
            "Downloading mysql_connector_python-9.3.0-cp311-cp311-manylinux_2_28_x86_64.whl (33.9 MB)\n",
            "\u001b[2K   \u001b[90m━━━━━━━━━━━━━━━━━━━━━━━━━━━━━━━━━━━━━━━━\u001b[0m \u001b[32m33.9/33.9 MB\u001b[0m \u001b[31m39.4 MB/s\u001b[0m eta \u001b[36m0:00:00\u001b[0m\n",
            "\u001b[?25hInstalling collected packages: mysql-connector-python\n",
            "Successfully installed mysql-connector-python-9.3.0\n"
          ]
        }
      ]
    },
    {
      "cell_type": "code",
      "source": [
        "uploaded = files.upload()"
      ],
      "metadata": {
        "colab": {
          "base_uri": "https://localhost:8080/",
          "height": 90
        },
        "id": "eo89nP3-C8Ij",
        "outputId": "ef54d7e0-14d2-4e4b-c02a-2d69022aef19"
      },
      "execution_count": 2,
      "outputs": [
        {
          "output_type": "display_data",
          "data": {
            "text/plain": [
              "<IPython.core.display.HTML object>"
            ],
            "text/html": [
              "\n",
              "     <input type=\"file\" id=\"files-400fb20f-b3ab-484a-9829-1c49454987bb\" name=\"files[]\" multiple disabled\n",
              "        style=\"border:none\" />\n",
              "     <output id=\"result-400fb20f-b3ab-484a-9829-1c49454987bb\">\n",
              "      Upload widget is only available when the cell has been executed in the\n",
              "      current browser session. Please rerun this cell to enable.\n",
              "      </output>\n",
              "      <script>// Copyright 2017 Google LLC\n",
              "//\n",
              "// Licensed under the Apache License, Version 2.0 (the \"License\");\n",
              "// you may not use this file except in compliance with the License.\n",
              "// You may obtain a copy of the License at\n",
              "//\n",
              "//      http://www.apache.org/licenses/LICENSE-2.0\n",
              "//\n",
              "// Unless required by applicable law or agreed to in writing, software\n",
              "// distributed under the License is distributed on an \"AS IS\" BASIS,\n",
              "// WITHOUT WARRANTIES OR CONDITIONS OF ANY KIND, either express or implied.\n",
              "// See the License for the specific language governing permissions and\n",
              "// limitations under the License.\n",
              "\n",
              "/**\n",
              " * @fileoverview Helpers for google.colab Python module.\n",
              " */\n",
              "(function(scope) {\n",
              "function span(text, styleAttributes = {}) {\n",
              "  const element = document.createElement('span');\n",
              "  element.textContent = text;\n",
              "  for (const key of Object.keys(styleAttributes)) {\n",
              "    element.style[key] = styleAttributes[key];\n",
              "  }\n",
              "  return element;\n",
              "}\n",
              "\n",
              "// Max number of bytes which will be uploaded at a time.\n",
              "const MAX_PAYLOAD_SIZE = 100 * 1024;\n",
              "\n",
              "function _uploadFiles(inputId, outputId) {\n",
              "  const steps = uploadFilesStep(inputId, outputId);\n",
              "  const outputElement = document.getElementById(outputId);\n",
              "  // Cache steps on the outputElement to make it available for the next call\n",
              "  // to uploadFilesContinue from Python.\n",
              "  outputElement.steps = steps;\n",
              "\n",
              "  return _uploadFilesContinue(outputId);\n",
              "}\n",
              "\n",
              "// This is roughly an async generator (not supported in the browser yet),\n",
              "// where there are multiple asynchronous steps and the Python side is going\n",
              "// to poll for completion of each step.\n",
              "// This uses a Promise to block the python side on completion of each step,\n",
              "// then passes the result of the previous step as the input to the next step.\n",
              "function _uploadFilesContinue(outputId) {\n",
              "  const outputElement = document.getElementById(outputId);\n",
              "  const steps = outputElement.steps;\n",
              "\n",
              "  const next = steps.next(outputElement.lastPromiseValue);\n",
              "  return Promise.resolve(next.value.promise).then((value) => {\n",
              "    // Cache the last promise value to make it available to the next\n",
              "    // step of the generator.\n",
              "    outputElement.lastPromiseValue = value;\n",
              "    return next.value.response;\n",
              "  });\n",
              "}\n",
              "\n",
              "/**\n",
              " * Generator function which is called between each async step of the upload\n",
              " * process.\n",
              " * @param {string} inputId Element ID of the input file picker element.\n",
              " * @param {string} outputId Element ID of the output display.\n",
              " * @return {!Iterable<!Object>} Iterable of next steps.\n",
              " */\n",
              "function* uploadFilesStep(inputId, outputId) {\n",
              "  const inputElement = document.getElementById(inputId);\n",
              "  inputElement.disabled = false;\n",
              "\n",
              "  const outputElement = document.getElementById(outputId);\n",
              "  outputElement.innerHTML = '';\n",
              "\n",
              "  const pickedPromise = new Promise((resolve) => {\n",
              "    inputElement.addEventListener('change', (e) => {\n",
              "      resolve(e.target.files);\n",
              "    });\n",
              "  });\n",
              "\n",
              "  const cancel = document.createElement('button');\n",
              "  inputElement.parentElement.appendChild(cancel);\n",
              "  cancel.textContent = 'Cancel upload';\n",
              "  const cancelPromise = new Promise((resolve) => {\n",
              "    cancel.onclick = () => {\n",
              "      resolve(null);\n",
              "    };\n",
              "  });\n",
              "\n",
              "  // Wait for the user to pick the files.\n",
              "  const files = yield {\n",
              "    promise: Promise.race([pickedPromise, cancelPromise]),\n",
              "    response: {\n",
              "      action: 'starting',\n",
              "    }\n",
              "  };\n",
              "\n",
              "  cancel.remove();\n",
              "\n",
              "  // Disable the input element since further picks are not allowed.\n",
              "  inputElement.disabled = true;\n",
              "\n",
              "  if (!files) {\n",
              "    return {\n",
              "      response: {\n",
              "        action: 'complete',\n",
              "      }\n",
              "    };\n",
              "  }\n",
              "\n",
              "  for (const file of files) {\n",
              "    const li = document.createElement('li');\n",
              "    li.append(span(file.name, {fontWeight: 'bold'}));\n",
              "    li.append(span(\n",
              "        `(${file.type || 'n/a'}) - ${file.size} bytes, ` +\n",
              "        `last modified: ${\n",
              "            file.lastModifiedDate ? file.lastModifiedDate.toLocaleDateString() :\n",
              "                                    'n/a'} - `));\n",
              "    const percent = span('0% done');\n",
              "    li.appendChild(percent);\n",
              "\n",
              "    outputElement.appendChild(li);\n",
              "\n",
              "    const fileDataPromise = new Promise((resolve) => {\n",
              "      const reader = new FileReader();\n",
              "      reader.onload = (e) => {\n",
              "        resolve(e.target.result);\n",
              "      };\n",
              "      reader.readAsArrayBuffer(file);\n",
              "    });\n",
              "    // Wait for the data to be ready.\n",
              "    let fileData = yield {\n",
              "      promise: fileDataPromise,\n",
              "      response: {\n",
              "        action: 'continue',\n",
              "      }\n",
              "    };\n",
              "\n",
              "    // Use a chunked sending to avoid message size limits. See b/62115660.\n",
              "    let position = 0;\n",
              "    do {\n",
              "      const length = Math.min(fileData.byteLength - position, MAX_PAYLOAD_SIZE);\n",
              "      const chunk = new Uint8Array(fileData, position, length);\n",
              "      position += length;\n",
              "\n",
              "      const base64 = btoa(String.fromCharCode.apply(null, chunk));\n",
              "      yield {\n",
              "        response: {\n",
              "          action: 'append',\n",
              "          file: file.name,\n",
              "          data: base64,\n",
              "        },\n",
              "      };\n",
              "\n",
              "      let percentDone = fileData.byteLength === 0 ?\n",
              "          100 :\n",
              "          Math.round((position / fileData.byteLength) * 100);\n",
              "      percent.textContent = `${percentDone}% done`;\n",
              "\n",
              "    } while (position < fileData.byteLength);\n",
              "  }\n",
              "\n",
              "  // All done.\n",
              "  yield {\n",
              "    response: {\n",
              "      action: 'complete',\n",
              "    }\n",
              "  };\n",
              "}\n",
              "\n",
              "scope.google = scope.google || {};\n",
              "scope.google.colab = scope.google.colab || {};\n",
              "scope.google.colab._files = {\n",
              "  _uploadFiles,\n",
              "  _uploadFilesContinue,\n",
              "};\n",
              "})(self);\n",
              "</script> "
            ]
          },
          "metadata": {}
        },
        {
          "output_type": "stream",
          "name": "stdout",
          "text": [
            "Saving Extração_Teste_LeverPro.xlsx to Extração_Teste_LeverPro.xlsx\n"
          ]
        }
      ]
    },
    {
      "cell_type": "code",
      "source": [
        "# Carregar planilhas\n",
        "file = \"Extração_Teste_LeverPro.xlsx\"\n",
        "xls = pd.ExcelFile(file)\n",
        "\n",
        "empresa_df = xls.parse('Empresa')\n",
        "movimento_df = xls.parse('Movimento Contábil')\n",
        "relatorio_df = xls.parse('Relatório')\n",
        "centro_custo_df = xls.parse('Centro de Custo')\n",
        "\n",
        "# Padronizar colunas e limpar dados\n",
        "for df in [empresa_df, movimento_df, relatorio_df, centro_custo_df]:\n",
        "    df.columns = df.columns.str.strip()\n",
        "\n",
        "relatorio_df[\"Relatório\"] = relatorio_df[\"Relatório\"].str.strip()\n",
        "relatorio_df[\"Indicador Ativo / Inativo\"] = relatorio_df[\"Indicador Ativo / Inativo\"].str.strip()\n",
        "centro_custo_df[\"Descrição\"] = centro_custo_df[\"Descrição\"].str.strip()\n",
        "centro_custo_df[\"Indicador Ativo / Inativo\"] = centro_custo_df[\"Indicador Ativo / Inativo\"].str.strip()\n",
        "\n",
        "movimento_df[\"Valor\"] = pd.to_numeric(movimento_df[\"Valor\"], errors=\"coerce\")\n",
        "movimento_df[\"Data\"] = pd.to_datetime(movimento_df[\"Data\"], errors=\"coerce\")\n",
        "\n",
        "# Identificar tipo (Ativo ou Passivo)\n",
        "movimento_df[\"Tipo\"] = movimento_df[\"Conta Contábil\"].astype(str).str.startswith(\"1\").map({True: \"Ativo\", False: \"Passivo\"})\n"
      ],
      "metadata": {
        "id": "VwS_69wcC79H"
      },
      "execution_count": 3,
      "outputs": []
    },
    {
      "cell_type": "code",
      "source": [
        "create_scripts = \"\"\"\n",
        "CREATE TABLE Empresa (\n",
        "    Codigo INT PRIMARY KEY,\n",
        "    Empresa VARCHAR(100)\n",
        ");\n",
        "\n",
        "CREATE TABLE Relatorio (\n",
        "    Codigo INT PRIMARY KEY,\n",
        "    Relatorio VARCHAR(100),\n",
        "    Indicador VARCHAR(10)\n",
        ");\n",
        "\n",
        "CREATE TABLE CentroDeCusto (\n",
        "    Codigo INT PRIMARY KEY,\n",
        "    Descricao VARCHAR(100),\n",
        "    Indicador VARCHAR(10)\n",
        ");\n",
        "\n",
        "CREATE TABLE MovimentoContabil (\n",
        "    Seq INT PRIMARY KEY,\n",
        "    Data DATE,\n",
        "    ContaContabil VARCHAR(30),\n",
        "    Descricao VARCHAR(255),\n",
        "    Valor DECIMAL(15, 2),\n",
        "    Relatorio INT,\n",
        "    CentroDeCusto INT,\n",
        "    Empresa INT,\n",
        "    Tipo VARCHAR(10),\n",
        "    FOREIGN KEY (Relatorio) REFERENCES Relatorio(Codigo),\n",
        "    FOREIGN KEY (CentroDeCusto) REFERENCES CentroDeCusto(Codigo),\n",
        "    FOREIGN KEY (Empresa) REFERENCES Empresa(Codigo)\n",
        ");\n",
        "\"\"\"\n",
        "\n",
        "print(\"-- CRIAÇÃO DE TABELAS --\")\n",
        "print(create_scripts)\n"
      ],
      "metadata": {
        "colab": {
          "base_uri": "https://localhost:8080/"
        },
        "id": "1XTxRJMPDB3X",
        "outputId": "e72d7df3-622d-4a46-ea2c-534be60a295d"
      },
      "execution_count": 4,
      "outputs": [
        {
          "output_type": "stream",
          "name": "stdout",
          "text": [
            "-- CRIAÇÃO DE TABELAS --\n",
            "\n",
            "CREATE TABLE Empresa (\n",
            "    Codigo INT PRIMARY KEY,\n",
            "    Empresa VARCHAR(100)\n",
            ");\n",
            "\n",
            "CREATE TABLE Relatorio (\n",
            "    Codigo INT PRIMARY KEY,\n",
            "    Relatorio VARCHAR(100),\n",
            "    Indicador VARCHAR(10)\n",
            ");\n",
            "\n",
            "CREATE TABLE CentroDeCusto (\n",
            "    Codigo INT PRIMARY KEY,\n",
            "    Descricao VARCHAR(100),\n",
            "    Indicador VARCHAR(10)\n",
            ");\n",
            "\n",
            "CREATE TABLE MovimentoContabil (\n",
            "    Seq INT PRIMARY KEY,\n",
            "    Data DATE,\n",
            "    ContaContabil VARCHAR(30),\n",
            "    Descricao VARCHAR(255),\n",
            "    Valor DECIMAL(15, 2),\n",
            "    Relatorio INT,\n",
            "    CentroDeCusto INT,\n",
            "    Empresa INT,\n",
            "    Tipo VARCHAR(10),\n",
            "    FOREIGN KEY (Relatorio) REFERENCES Relatorio(Codigo),\n",
            "    FOREIGN KEY (CentroDeCusto) REFERENCES CentroDeCusto(Codigo),\n",
            "    FOREIGN KEY (Empresa) REFERENCES Empresa(Codigo)\n",
            ");\n",
            "\n"
          ]
        }
      ]
    },
    {
      "cell_type": "code",
      "source": [
        "def gerar_inserts(df, tabela):\n",
        "    inserts = []\n",
        "    for _, row in df.iterrows():\n",
        "        values = ', '.join(\n",
        "            [\"'{}'\".format(str(x).replace(\"'\", \"\")) if pd.notnull(x) else \"NULL\" for x in row.values]\n",
        "        )\n",
        "        insert = \"INSERT INTO {} VALUES ({});\".format(tabela, values)\n",
        "        inserts.append(insert)\n",
        "    return inserts\n",
        "\n",
        "# Gerar os INSERTs para cada tabela\n",
        "insert_sql = (\n",
        "    gerar_inserts(empresa_df, \"Empresa\") +\n",
        "    gerar_inserts(relatorio_df, \"Relatorio\") +\n",
        "    gerar_inserts(centro_custo_df, \"CentroDeCusto\") +\n",
        "    gerar_inserts(movimento_df, \"MovimentoContabil\")\n",
        ")\n",
        "\n",
        "# Exibir os primeiros INSERTs gerados\n",
        "print(\"-- EXEMPLOS DE INSERTS --\")\n",
        "print(\"\\n\".join(insert_sql[:10]))\n"
      ],
      "metadata": {
        "colab": {
          "base_uri": "https://localhost:8080/"
        },
        "id": "jzGpewJMDBxD",
        "outputId": "0df56fdc-2c62-4670-eb53-d3b22397d388"
      },
      "execution_count": 5,
      "outputs": [
        {
          "output_type": "stream",
          "name": "stdout",
          "text": [
            "-- EXEMPLOS DE INSERTS --\n",
            "INSERT INTO Empresa VALUES ('1', 'EMPRESA 1');\n",
            "INSERT INTO Empresa VALUES ('2', 'EMPRESA 2');\n",
            "INSERT INTO Empresa VALUES ('3', 'EMPRESA 3');\n",
            "INSERT INTO Empresa VALUES ('4', 'EMPRESA 4');\n",
            "INSERT INTO Empresa VALUES ('5', 'EMPRESA 5');\n",
            "INSERT INTO Relatorio VALUES ('1', 'BALANCO PATRIMONIAL', 'S');\n",
            "INSERT INTO Relatorio VALUES ('2', 'DRE', 'Sim');\n",
            "INSERT INTO Relatorio VALUES ('3', 'INDICADORES', 'N');\n",
            "INSERT INTO Relatorio VALUES ('4', 'FLUXO DE CAIXA', 'S');\n",
            "INSERT INTO Relatorio VALUES ('5', 'DMPL', 'N');\n"
          ]
        }
      ]
    },
    {
      "cell_type": "code",
      "source": [
        "soma_ativo = movimento_df[movimento_df[\"Tipo\"] == \"Ativo\"][\"Valor\"].sum()\n",
        "soma_passivo = movimento_df[movimento_df[\"Tipo\"] == \"Passivo\"][\"Valor\"].sum()\n",
        "integridade = soma_ativo + soma_passivo\n",
        "\n",
        "status_integridade = \"INTEGRIDADE OK\" if integridade == 0 else \"ERRO DE INTEGRIDADE\"\n",
        "\n",
        "print(f\"\"\"\n",
        "==========================================\n",
        "Resumo da Integridade Financeira\n",
        "==========================================\n",
        "Total Ativo   : {soma_ativo:,.2f}\n",
        "Total Passivo : {soma_passivo:,.2f}\n",
        "Soma Total    : {integridade:,.2f}\n",
        "Status        : {status_integridade}\n",
        "==========================================\n",
        "\"\"\")\n"
      ],
      "metadata": {
        "colab": {
          "base_uri": "https://localhost:8080/"
        },
        "id": "FbuemQT5HquC",
        "outputId": "5a95d2f7-bb1a-48f7-9cbc-5ec9fbe41235"
      },
      "execution_count": 6,
      "outputs": [
        {
          "output_type": "stream",
          "name": "stdout",
          "text": [
            "\n",
            "==========================================\n",
            "Resumo da Integridade Financeira\n",
            "==========================================\n",
            "Total Ativo   : 5,583,794,523.00\n",
            "Total Passivo : -263,667,908.13\n",
            "Soma Total    : 5,320,126,614.87\n",
            "Status        : ERRO DE INTEGRIDADE\n",
            "==========================================\n",
            "\n"
          ]
        }
      ]
    },
    {
      "cell_type": "code",
      "source": [
        "json_resultado = (\n",
        "    movimento_df.groupby([\"Empresa\", \"Tipo\"])\n",
        "    .agg({\"Valor\": \"sum\"})\n",
        "    .reset_index()\n",
        "    .pivot(index=\"Empresa\", columns=\"Tipo\", values=\"Valor\")\n",
        "    .fillna(0)\n",
        "    .assign(Soma_Total=lambda df: df[\"Ativo\"] + df[\"Passivo\"])\n",
        "    .assign(Status=lambda df: df[\"Soma_Total\"].apply(lambda x: \"INTEGRIDADE OK\" if x == 0 else \"ERRO\"))\n",
        ")\n",
        "\n",
        "json_str = json_resultado.reset_index().to_json(orient=\"records\", indent=2)\n",
        "with open(\"resultado_integridade.json\", \"w\") as f:\n",
        "    f.write(json_str)\n",
        "\n",
        "files.download(\"resultado_integridade.json\")\n"
      ],
      "metadata": {
        "colab": {
          "base_uri": "https://localhost:8080/",
          "height": 17
        },
        "id": "4kJfv_SeDIhQ",
        "outputId": "9544ded7-d9d6-4bff-ec36-bfc9d42fb4c0"
      },
      "execution_count": 7,
      "outputs": [
        {
          "output_type": "display_data",
          "data": {
            "text/plain": [
              "<IPython.core.display.Javascript object>"
            ],
            "application/javascript": [
              "\n",
              "    async function download(id, filename, size) {\n",
              "      if (!google.colab.kernel.accessAllowed) {\n",
              "        return;\n",
              "      }\n",
              "      const div = document.createElement('div');\n",
              "      const label = document.createElement('label');\n",
              "      label.textContent = `Downloading \"${filename}\": `;\n",
              "      div.appendChild(label);\n",
              "      const progress = document.createElement('progress');\n",
              "      progress.max = size;\n",
              "      div.appendChild(progress);\n",
              "      document.body.appendChild(div);\n",
              "\n",
              "      const buffers = [];\n",
              "      let downloaded = 0;\n",
              "\n",
              "      const channel = await google.colab.kernel.comms.open(id);\n",
              "      // Send a message to notify the kernel that we're ready.\n",
              "      channel.send({})\n",
              "\n",
              "      for await (const message of channel.messages) {\n",
              "        // Send a message to notify the kernel that we're ready.\n",
              "        channel.send({})\n",
              "        if (message.buffers) {\n",
              "          for (const buffer of message.buffers) {\n",
              "            buffers.push(buffer);\n",
              "            downloaded += buffer.byteLength;\n",
              "            progress.value = downloaded;\n",
              "          }\n",
              "        }\n",
              "      }\n",
              "      const blob = new Blob(buffers, {type: 'application/binary'});\n",
              "      const a = document.createElement('a');\n",
              "      a.href = window.URL.createObjectURL(blob);\n",
              "      a.download = filename;\n",
              "      div.appendChild(a);\n",
              "      a.click();\n",
              "      div.remove();\n",
              "    }\n",
              "  "
            ]
          },
          "metadata": {}
        },
        {
          "output_type": "display_data",
          "data": {
            "text/plain": [
              "<IPython.core.display.Javascript object>"
            ],
            "application/javascript": [
              "download(\"download_d7e0c707-4caf-4a70-ba10-4ed7d35c2ae4\", \"resultado_integridade.json\", 756)"
            ]
          },
          "metadata": {}
        }
      ]
    },
    {
      "cell_type": "code",
      "source": [
        "dot = Digraph()\n",
        "\n",
        "dot.node(\"F\", \"MovimentoContabil (Fato)\")\n",
        "dot.node(\"D1\", \"Empresa\")\n",
        "dot.node(\"D2\", \"Relatorio\")\n",
        "dot.node(\"D3\", \"CentroDeCusto\")\n",
        "\n",
        "dot.edges([(\"D1\", \"F\"), (\"D2\", \"F\"), (\"D3\", \"F\")])\n",
        "dot.render(\"modelo_estrela\", format=\"png\", cleanup=False)\n",
        "dot.view()\n"
      ],
      "metadata": {
        "colab": {
          "base_uri": "https://localhost:8080/",
          "height": 35
        },
        "id": "Y6lgCWpEEUBR",
        "outputId": "bc82b151-e4a4-4ca0-b72a-238648e3ff45"
      },
      "execution_count": 8,
      "outputs": [
        {
          "output_type": "execute_result",
          "data": {
            "text/plain": [
              "'modelo_estrela.pdf'"
            ],
            "application/vnd.google.colaboratory.intrinsic+json": {
              "type": "string"
            }
          },
          "metadata": {},
          "execution_count": 8
        }
      ]
    }
  ]
}